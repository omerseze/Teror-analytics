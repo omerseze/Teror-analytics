{
 "cells": [
  {
   "cell_type": "markdown",
   "id": "874912bd",
   "metadata": {},
   "source": [
    "# VERİ MADENCİLİĞİ "
   ]
  },
  {
   "cell_type": "markdown",
   "id": "95009b59",
   "metadata": {},
   "source": [
    "GLOBAL TERÖRİZM VERİ SETİ \n",
    "türkiyede Kaç kişinn  öleceği üzerine bir tahminleme modeli \n",
    "\n",
    "\n",
    "çalışmış olduğum verisetinde 1970-2016 yılları arasında dünya üzerinde gerçekleşen terör olaylarını içermektedir güncek GTB sitesinde sürekli olarak güncel veriler verilmekte ve paylaşılmaktadır.\n",
    "\n",
    "veri seti kaggle.com üzerinden ilgili url \"https://www.kaggle.com/datasets/omercolakoglu/global-terrorism-database-turkish\"\n",
    "ve diğer farklı yıllara ait veri seti GTB global terorızm database sitesinden  alınmıştır site url \"https://www.start.umd.edu/gtd/\"\n",
    "\n"
   ]
  },
  {
   "cell_type": "markdown",
   "id": "6e9b7b80",
   "metadata": {},
   "source": [
    "veri madenciliği uygularken kullandığımız python kütüphaneleri "
   ]
  },
  {
   "cell_type": "code",
   "execution_count": 3,
   "id": "a02e6eae",
   "metadata": {},
   "outputs": [
    {
     "data": {
      "text/html": [
       "        <script type=\"text/javascript\">\n",
       "        window.PlotlyConfig = {MathJaxConfig: 'local'};\n",
       "        if (window.MathJax && window.MathJax.Hub && window.MathJax.Hub.Config) {window.MathJax.Hub.Config({SVG: {font: \"STIX-Web\"}});}\n",
       "        if (typeof require !== 'undefined') {\n",
       "        require.undef(\"plotly\");\n",
       "        requirejs.config({\n",
       "            paths: {\n",
       "                'plotly': ['https://cdn.plot.ly/plotly-2.12.1.min']\n",
       "            }\n",
       "        });\n",
       "        require(['plotly'], function(Plotly) {\n",
       "            window._Plotly = Plotly;\n",
       "        });\n",
       "        }\n",
       "        </script>\n",
       "        "
      ]
     },
     "metadata": {},
     "output_type": "display_data"
    }
   ],
   "source": [
    "import numpy as np\n",
    "import pandas as pd\n",
    "import chardet\n",
    "from IPython.display import Image\n",
    "import matplotlib.pyplot as plt\n",
    "import plotly.graph_objs as go \n",
    "from plotly.offline import download_plotlyjs, init_notebook_mode, plot, iplot\n",
    "init_notebook_mode(connected=True)\n",
    "import seaborn as sns \n",
    "from sklearn.model_selection import train_test_split\n",
    "from sklearn import tree\n",
    "from sklearn.ensemble import RandomForestClassifier\n",
    "from sklearn.ensemble import RandomForestRegressor as rfr\n",
    "from sklearn.metrics import mean_absolute_error as mae\n",
    "from sklearn.tree import DecisionTreeRegressor as dtr\n",
    "from scipy import stats\n",
    "import pandas as pd\n",
    "from sklearn.model_selection import train_test_split\n",
    "from sklearn.tree import DecisionTreeClassifier\n",
    "from sklearn.metrics import accuracy_score\n",
    "\n",
    "from sklearn.cluster import KMeans\n",
    "\n"
   ]
  },
  {
   "cell_type": "markdown",
   "id": "9dd34a17",
   "metadata": {},
   "source": [
    "veri setindeki çağrılan ilk 10 satırın içeriğinde NA değerleri içermektedir"
   ]
  },
  {
   "cell_type": "code",
   "execution_count": 4,
   "id": "17ddbf36",
   "metadata": {},
   "outputs": [
    {
     "data": {
      "text/html": [
       "<div>\n",
       "<style scoped>\n",
       "    .dataframe tbody tr th:only-of-type {\n",
       "        vertical-align: middle;\n",
       "    }\n",
       "\n",
       "    .dataframe tbody tr th {\n",
       "        vertical-align: top;\n",
       "    }\n",
       "\n",
       "    .dataframe thead th {\n",
       "        text-align: right;\n",
       "    }\n",
       "</style>\n",
       "<table border=\"1\" class=\"dataframe\">\n",
       "  <thead>\n",
       "    <tr style=\"text-align: right;\">\n",
       "      <th></th>\n",
       "      <th>iyear</th>\n",
       "      <th>imonth</th>\n",
       "      <th>iday</th>\n",
       "      <th>extended</th>\n",
       "      <th>country</th>\n",
       "      <th>country_txt</th>\n",
       "      <th>region</th>\n",
       "      <th>latitude</th>\n",
       "      <th>longitude</th>\n",
       "      <th>multiple</th>\n",
       "      <th>...</th>\n",
       "      <th>natlty1</th>\n",
       "      <th>natlty1_txt</th>\n",
       "      <th>individual</th>\n",
       "      <th>claimed</th>\n",
       "      <th>weaptype1</th>\n",
       "      <th>weaptype1_txt</th>\n",
       "      <th>nkill</th>\n",
       "      <th>nkillter</th>\n",
       "      <th>nwound</th>\n",
       "      <th>nwoundte</th>\n",
       "    </tr>\n",
       "  </thead>\n",
       "  <tbody>\n",
       "    <tr>\n",
       "      <th>0</th>\n",
       "      <td>1970</td>\n",
       "      <td>7</td>\n",
       "      <td>2</td>\n",
       "      <td>0</td>\n",
       "      <td>58</td>\n",
       "      <td>Dominican Republic</td>\n",
       "      <td>2</td>\n",
       "      <td>18.456792</td>\n",
       "      <td>-69.951164</td>\n",
       "      <td>0</td>\n",
       "      <td>...</td>\n",
       "      <td>58.0</td>\n",
       "      <td>Dominican Republic</td>\n",
       "      <td>0</td>\n",
       "      <td>NaN</td>\n",
       "      <td>13</td>\n",
       "      <td>Unknown</td>\n",
       "      <td>1.0</td>\n",
       "      <td>NaN</td>\n",
       "      <td>0.0</td>\n",
       "      <td>NaN</td>\n",
       "    </tr>\n",
       "    <tr>\n",
       "      <th>1</th>\n",
       "      <td>1970</td>\n",
       "      <td>0</td>\n",
       "      <td>0</td>\n",
       "      <td>0</td>\n",
       "      <td>130</td>\n",
       "      <td>Mexico</td>\n",
       "      <td>1</td>\n",
       "      <td>19.432608</td>\n",
       "      <td>-99.133207</td>\n",
       "      <td>0</td>\n",
       "      <td>...</td>\n",
       "      <td>21.0</td>\n",
       "      <td>Belgium</td>\n",
       "      <td>0</td>\n",
       "      <td>NaN</td>\n",
       "      <td>13</td>\n",
       "      <td>Unknown</td>\n",
       "      <td>0.0</td>\n",
       "      <td>NaN</td>\n",
       "      <td>0.0</td>\n",
       "      <td>NaN</td>\n",
       "    </tr>\n",
       "    <tr>\n",
       "      <th>2</th>\n",
       "      <td>1970</td>\n",
       "      <td>1</td>\n",
       "      <td>0</td>\n",
       "      <td>0</td>\n",
       "      <td>160</td>\n",
       "      <td>Philippines</td>\n",
       "      <td>5</td>\n",
       "      <td>15.478598</td>\n",
       "      <td>120.599741</td>\n",
       "      <td>0</td>\n",
       "      <td>...</td>\n",
       "      <td>217.0</td>\n",
       "      <td>United States</td>\n",
       "      <td>0</td>\n",
       "      <td>NaN</td>\n",
       "      <td>13</td>\n",
       "      <td>Unknown</td>\n",
       "      <td>1.0</td>\n",
       "      <td>NaN</td>\n",
       "      <td>0.0</td>\n",
       "      <td>NaN</td>\n",
       "    </tr>\n",
       "    <tr>\n",
       "      <th>3</th>\n",
       "      <td>1970</td>\n",
       "      <td>1</td>\n",
       "      <td>0</td>\n",
       "      <td>0</td>\n",
       "      <td>78</td>\n",
       "      <td>Greece</td>\n",
       "      <td>8</td>\n",
       "      <td>37.983773</td>\n",
       "      <td>23.728157</td>\n",
       "      <td>0</td>\n",
       "      <td>...</td>\n",
       "      <td>217.0</td>\n",
       "      <td>United States</td>\n",
       "      <td>0</td>\n",
       "      <td>NaN</td>\n",
       "      <td>6</td>\n",
       "      <td>Explosives/Bombs/Dynamite</td>\n",
       "      <td>NaN</td>\n",
       "      <td>NaN</td>\n",
       "      <td>NaN</td>\n",
       "      <td>NaN</td>\n",
       "    </tr>\n",
       "    <tr>\n",
       "      <th>4</th>\n",
       "      <td>1970</td>\n",
       "      <td>1</td>\n",
       "      <td>0</td>\n",
       "      <td>0</td>\n",
       "      <td>101</td>\n",
       "      <td>Japan</td>\n",
       "      <td>4</td>\n",
       "      <td>33.580412</td>\n",
       "      <td>130.396361</td>\n",
       "      <td>0</td>\n",
       "      <td>...</td>\n",
       "      <td>217.0</td>\n",
       "      <td>United States</td>\n",
       "      <td>0</td>\n",
       "      <td>NaN</td>\n",
       "      <td>8</td>\n",
       "      <td>Incendiary</td>\n",
       "      <td>NaN</td>\n",
       "      <td>NaN</td>\n",
       "      <td>NaN</td>\n",
       "      <td>NaN</td>\n",
       "    </tr>\n",
       "    <tr>\n",
       "      <th>5</th>\n",
       "      <td>1970</td>\n",
       "      <td>1</td>\n",
       "      <td>1</td>\n",
       "      <td>0</td>\n",
       "      <td>217</td>\n",
       "      <td>United States</td>\n",
       "      <td>1</td>\n",
       "      <td>37.005105</td>\n",
       "      <td>-89.176269</td>\n",
       "      <td>0</td>\n",
       "      <td>...</td>\n",
       "      <td>217.0</td>\n",
       "      <td>United States</td>\n",
       "      <td>0</td>\n",
       "      <td>0.0</td>\n",
       "      <td>5</td>\n",
       "      <td>Firearms</td>\n",
       "      <td>0.0</td>\n",
       "      <td>0.0</td>\n",
       "      <td>0.0</td>\n",
       "      <td>0.0</td>\n",
       "    </tr>\n",
       "    <tr>\n",
       "      <th>6</th>\n",
       "      <td>1970</td>\n",
       "      <td>1</td>\n",
       "      <td>2</td>\n",
       "      <td>0</td>\n",
       "      <td>218</td>\n",
       "      <td>Uruguay</td>\n",
       "      <td>3</td>\n",
       "      <td>-34.891151</td>\n",
       "      <td>-56.187214</td>\n",
       "      <td>0</td>\n",
       "      <td>...</td>\n",
       "      <td>218.0</td>\n",
       "      <td>Uruguay</td>\n",
       "      <td>0</td>\n",
       "      <td>NaN</td>\n",
       "      <td>5</td>\n",
       "      <td>Firearms</td>\n",
       "      <td>0.0</td>\n",
       "      <td>NaN</td>\n",
       "      <td>0.0</td>\n",
       "      <td>NaN</td>\n",
       "    </tr>\n",
       "    <tr>\n",
       "      <th>7</th>\n",
       "      <td>1970</td>\n",
       "      <td>1</td>\n",
       "      <td>2</td>\n",
       "      <td>0</td>\n",
       "      <td>217</td>\n",
       "      <td>United States</td>\n",
       "      <td>1</td>\n",
       "      <td>37.805065</td>\n",
       "      <td>-122.273024</td>\n",
       "      <td>0</td>\n",
       "      <td>...</td>\n",
       "      <td>217.0</td>\n",
       "      <td>United States</td>\n",
       "      <td>0</td>\n",
       "      <td>0.0</td>\n",
       "      <td>6</td>\n",
       "      <td>Explosives/Bombs/Dynamite</td>\n",
       "      <td>0.0</td>\n",
       "      <td>0.0</td>\n",
       "      <td>0.0</td>\n",
       "      <td>0.0</td>\n",
       "    </tr>\n",
       "    <tr>\n",
       "      <th>8</th>\n",
       "      <td>1970</td>\n",
       "      <td>1</td>\n",
       "      <td>2</td>\n",
       "      <td>0</td>\n",
       "      <td>217</td>\n",
       "      <td>United States</td>\n",
       "      <td>1</td>\n",
       "      <td>43.076592</td>\n",
       "      <td>-89.412488</td>\n",
       "      <td>0</td>\n",
       "      <td>...</td>\n",
       "      <td>217.0</td>\n",
       "      <td>United States</td>\n",
       "      <td>0</td>\n",
       "      <td>1.0</td>\n",
       "      <td>8</td>\n",
       "      <td>Incendiary</td>\n",
       "      <td>0.0</td>\n",
       "      <td>0.0</td>\n",
       "      <td>0.0</td>\n",
       "      <td>0.0</td>\n",
       "    </tr>\n",
       "    <tr>\n",
       "      <th>9</th>\n",
       "      <td>1970</td>\n",
       "      <td>1</td>\n",
       "      <td>3</td>\n",
       "      <td>0</td>\n",
       "      <td>217</td>\n",
       "      <td>United States</td>\n",
       "      <td>1</td>\n",
       "      <td>43.072950</td>\n",
       "      <td>-89.386694</td>\n",
       "      <td>0</td>\n",
       "      <td>...</td>\n",
       "      <td>217.0</td>\n",
       "      <td>United States</td>\n",
       "      <td>0</td>\n",
       "      <td>0.0</td>\n",
       "      <td>8</td>\n",
       "      <td>Incendiary</td>\n",
       "      <td>0.0</td>\n",
       "      <td>0.0</td>\n",
       "      <td>0.0</td>\n",
       "      <td>0.0</td>\n",
       "    </tr>\n",
       "  </tbody>\n",
       "</table>\n",
       "<p>10 rows × 26 columns</p>\n",
       "</div>"
      ],
      "text/plain": [
       "   iyear  imonth  iday  extended  country         country_txt  region  \\\n",
       "0   1970       7     2         0       58  Dominican Republic       2   \n",
       "1   1970       0     0         0      130              Mexico       1   \n",
       "2   1970       1     0         0      160         Philippines       5   \n",
       "3   1970       1     0         0       78              Greece       8   \n",
       "4   1970       1     0         0      101               Japan       4   \n",
       "5   1970       1     1         0      217       United States       1   \n",
       "6   1970       1     2         0      218             Uruguay       3   \n",
       "7   1970       1     2         0      217       United States       1   \n",
       "8   1970       1     2         0      217       United States       1   \n",
       "9   1970       1     3         0      217       United States       1   \n",
       "\n",
       "    latitude   longitude  multiple  ...  natlty1         natlty1_txt  \\\n",
       "0  18.456792  -69.951164         0  ...     58.0  Dominican Republic   \n",
       "1  19.432608  -99.133207         0  ...     21.0             Belgium   \n",
       "2  15.478598  120.599741         0  ...    217.0       United States   \n",
       "3  37.983773   23.728157         0  ...    217.0       United States   \n",
       "4  33.580412  130.396361         0  ...    217.0       United States   \n",
       "5  37.005105  -89.176269         0  ...    217.0       United States   \n",
       "6 -34.891151  -56.187214         0  ...    218.0             Uruguay   \n",
       "7  37.805065 -122.273024         0  ...    217.0       United States   \n",
       "8  43.076592  -89.412488         0  ...    217.0       United States   \n",
       "9  43.072950  -89.386694         0  ...    217.0       United States   \n",
       "\n",
       "   individual claimed  weaptype1              weaptype1_txt  nkill nkillter  \\\n",
       "0           0     NaN         13                    Unknown    1.0      NaN   \n",
       "1           0     NaN         13                    Unknown    0.0      NaN   \n",
       "2           0     NaN         13                    Unknown    1.0      NaN   \n",
       "3           0     NaN          6  Explosives/Bombs/Dynamite    NaN      NaN   \n",
       "4           0     NaN          8                 Incendiary    NaN      NaN   \n",
       "5           0     0.0          5                   Firearms    0.0      0.0   \n",
       "6           0     NaN          5                   Firearms    0.0      NaN   \n",
       "7           0     0.0          6  Explosives/Bombs/Dynamite    0.0      0.0   \n",
       "8           0     1.0          8                 Incendiary    0.0      0.0   \n",
       "9           0     0.0          8                 Incendiary    0.0      0.0   \n",
       "\n",
       "   nwound  nwoundte  \n",
       "0     0.0       NaN  \n",
       "1     0.0       NaN  \n",
       "2     0.0       NaN  \n",
       "3     NaN       NaN  \n",
       "4     NaN       NaN  \n",
       "5     0.0       0.0  \n",
       "6     0.0       NaN  \n",
       "7     0.0       0.0  \n",
       "8     0.0       0.0  \n",
       "9     0.0       0.0  \n",
       "\n",
       "[10 rows x 26 columns]"
      ]
     },
     "execution_count": 4,
     "metadata": {},
     "output_type": "execute_result"
    }
   ],
   "source": [
    "df = pd.read_csv('//Users/omerfaruksezer//Downloads//globalterrorismdb_shorter.csv', encoding='ISO-8859-1', header = 0,usecols=['iyear', 'imonth', 'iday', 'extended', 'country', 'country_txt', 'region', 'latitude', 'longitude','success', 'suicide','attacktype1','attacktype1_txt', 'targtype1', 'targtype1_txt', 'natlty1','natlty1_txt','weaptype1', 'weaptype1_txt' ,'nkill','multiple', 'individual', 'claimed','nkill','nkillter', 'nwound', 'nwoundte'])\n",
    "df.head(10)"
   ]
  },
  {
   "cell_type": "markdown",
   "id": "ea228207",
   "metadata": {},
   "source": [
    "burada verisetindeki ülke kodlarından olan 209 numaralı türkiye kodunu ana verisetinden çekip yeni bir veri seti olarak df_turkey  olarak tanımlıyoruz"
   ]
  },
  {
   "cell_type": "code",
   "execution_count": 5,
   "id": "588b0390",
   "metadata": {},
   "outputs": [],
   "source": [
    "df_turkey = df[df.country == 209]\n",
    "\n"
   ]
  },
  {
   "cell_type": "code",
   "execution_count": 6,
   "id": "1675b7f2",
   "metadata": {},
   "outputs": [
    {
     "data": {
      "text/html": [
       "<div>\n",
       "<style scoped>\n",
       "    .dataframe tbody tr th:only-of-type {\n",
       "        vertical-align: middle;\n",
       "    }\n",
       "\n",
       "    .dataframe tbody tr th {\n",
       "        vertical-align: top;\n",
       "    }\n",
       "\n",
       "    .dataframe thead th {\n",
       "        text-align: right;\n",
       "    }\n",
       "</style>\n",
       "<table border=\"1\" class=\"dataframe\">\n",
       "  <thead>\n",
       "    <tr style=\"text-align: right;\">\n",
       "      <th></th>\n",
       "      <th>iyear</th>\n",
       "      <th>imonth</th>\n",
       "      <th>iday</th>\n",
       "      <th>extended</th>\n",
       "      <th>country</th>\n",
       "      <th>country_txt</th>\n",
       "      <th>region</th>\n",
       "      <th>latitude</th>\n",
       "      <th>longitude</th>\n",
       "      <th>multiple</th>\n",
       "      <th>...</th>\n",
       "      <th>natlty1</th>\n",
       "      <th>natlty1_txt</th>\n",
       "      <th>individual</th>\n",
       "      <th>claimed</th>\n",
       "      <th>weaptype1</th>\n",
       "      <th>weaptype1_txt</th>\n",
       "      <th>nkill</th>\n",
       "      <th>nkillter</th>\n",
       "      <th>nwound</th>\n",
       "      <th>nwoundte</th>\n",
       "    </tr>\n",
       "  </thead>\n",
       "  <tbody>\n",
       "    <tr>\n",
       "      <th>226</th>\n",
       "      <td>1970</td>\n",
       "      <td>4</td>\n",
       "      <td>25</td>\n",
       "      <td>0</td>\n",
       "      <td>209</td>\n",
       "      <td>Turkey</td>\n",
       "      <td>10</td>\n",
       "      <td>41.014836</td>\n",
       "      <td>28.961414</td>\n",
       "      <td>0</td>\n",
       "      <td>...</td>\n",
       "      <td>97.0</td>\n",
       "      <td>Israel</td>\n",
       "      <td>0</td>\n",
       "      <td>NaN</td>\n",
       "      <td>6</td>\n",
       "      <td>Explosives/Bombs/Dynamite</td>\n",
       "      <td>0.0</td>\n",
       "      <td>NaN</td>\n",
       "      <td>0.0</td>\n",
       "      <td>NaN</td>\n",
       "    </tr>\n",
       "    <tr>\n",
       "      <th>486</th>\n",
       "      <td>1970</td>\n",
       "      <td>8</td>\n",
       "      <td>31</td>\n",
       "      <td>0</td>\n",
       "      <td>209</td>\n",
       "      <td>Turkey</td>\n",
       "      <td>10</td>\n",
       "      <td>39.918392</td>\n",
       "      <td>32.865597</td>\n",
       "      <td>0</td>\n",
       "      <td>...</td>\n",
       "      <td>217.0</td>\n",
       "      <td>United States</td>\n",
       "      <td>0</td>\n",
       "      <td>NaN</td>\n",
       "      <td>6</td>\n",
       "      <td>Explosives/Bombs/Dynamite</td>\n",
       "      <td>0.0</td>\n",
       "      <td>NaN</td>\n",
       "      <td>0.0</td>\n",
       "      <td>NaN</td>\n",
       "    </tr>\n",
       "    <tr>\n",
       "      <th>531</th>\n",
       "      <td>1970</td>\n",
       "      <td>10</td>\n",
       "      <td>2</td>\n",
       "      <td>0</td>\n",
       "      <td>209</td>\n",
       "      <td>Turkey</td>\n",
       "      <td>10</td>\n",
       "      <td>38.423708</td>\n",
       "      <td>27.134205</td>\n",
       "      <td>0</td>\n",
       "      <td>...</td>\n",
       "      <td>217.0</td>\n",
       "      <td>United States</td>\n",
       "      <td>0</td>\n",
       "      <td>NaN</td>\n",
       "      <td>6</td>\n",
       "      <td>Explosives/Bombs/Dynamite</td>\n",
       "      <td>0.0</td>\n",
       "      <td>NaN</td>\n",
       "      <td>0.0</td>\n",
       "      <td>NaN</td>\n",
       "    </tr>\n",
       "    <tr>\n",
       "      <th>534</th>\n",
       "      <td>1970</td>\n",
       "      <td>10</td>\n",
       "      <td>3</td>\n",
       "      <td>0</td>\n",
       "      <td>209</td>\n",
       "      <td>Turkey</td>\n",
       "      <td>10</td>\n",
       "      <td>39.918392</td>\n",
       "      <td>32.865597</td>\n",
       "      <td>0</td>\n",
       "      <td>...</td>\n",
       "      <td>217.0</td>\n",
       "      <td>United States</td>\n",
       "      <td>0</td>\n",
       "      <td>NaN</td>\n",
       "      <td>6</td>\n",
       "      <td>Explosives/Bombs/Dynamite</td>\n",
       "      <td>NaN</td>\n",
       "      <td>NaN</td>\n",
       "      <td>NaN</td>\n",
       "      <td>NaN</td>\n",
       "    </tr>\n",
       "    <tr>\n",
       "      <th>535</th>\n",
       "      <td>1970</td>\n",
       "      <td>10</td>\n",
       "      <td>3</td>\n",
       "      <td>0</td>\n",
       "      <td>209</td>\n",
       "      <td>Turkey</td>\n",
       "      <td>10</td>\n",
       "      <td>39.918392</td>\n",
       "      <td>32.865597</td>\n",
       "      <td>0</td>\n",
       "      <td>...</td>\n",
       "      <td>217.0</td>\n",
       "      <td>United States</td>\n",
       "      <td>0</td>\n",
       "      <td>NaN</td>\n",
       "      <td>6</td>\n",
       "      <td>Explosives/Bombs/Dynamite</td>\n",
       "      <td>0.0</td>\n",
       "      <td>NaN</td>\n",
       "      <td>0.0</td>\n",
       "      <td>NaN</td>\n",
       "    </tr>\n",
       "    <tr>\n",
       "      <th>...</th>\n",
       "      <td>...</td>\n",
       "      <td>...</td>\n",
       "      <td>...</td>\n",
       "      <td>...</td>\n",
       "      <td>...</td>\n",
       "      <td>...</td>\n",
       "      <td>...</td>\n",
       "      <td>...</td>\n",
       "      <td>...</td>\n",
       "      <td>...</td>\n",
       "      <td>...</td>\n",
       "      <td>...</td>\n",
       "      <td>...</td>\n",
       "      <td>...</td>\n",
       "      <td>...</td>\n",
       "      <td>...</td>\n",
       "      <td>...</td>\n",
       "      <td>...</td>\n",
       "      <td>...</td>\n",
       "      <td>...</td>\n",
       "      <td>...</td>\n",
       "    </tr>\n",
       "    <tr>\n",
       "      <th>4938</th>\n",
       "      <td>1977</td>\n",
       "      <td>7</td>\n",
       "      <td>13</td>\n",
       "      <td>0</td>\n",
       "      <td>209</td>\n",
       "      <td>Turkey</td>\n",
       "      <td>10</td>\n",
       "      <td>39.922071</td>\n",
       "      <td>32.853471</td>\n",
       "      <td>0</td>\n",
       "      <td>...</td>\n",
       "      <td>NaN</td>\n",
       "      <td>NaN</td>\n",
       "      <td>0</td>\n",
       "      <td>NaN</td>\n",
       "      <td>5</td>\n",
       "      <td>Firearms</td>\n",
       "      <td>0.0</td>\n",
       "      <td>NaN</td>\n",
       "      <td>1.0</td>\n",
       "      <td>NaN</td>\n",
       "    </tr>\n",
       "    <tr>\n",
       "      <th>4941</th>\n",
       "      <td>1977</td>\n",
       "      <td>7</td>\n",
       "      <td>13</td>\n",
       "      <td>0</td>\n",
       "      <td>209</td>\n",
       "      <td>Turkey</td>\n",
       "      <td>10</td>\n",
       "      <td>37.868792</td>\n",
       "      <td>32.484456</td>\n",
       "      <td>0</td>\n",
       "      <td>...</td>\n",
       "      <td>209.0</td>\n",
       "      <td>Turkey</td>\n",
       "      <td>0</td>\n",
       "      <td>NaN</td>\n",
       "      <td>6</td>\n",
       "      <td>Explosives/Bombs/Dynamite</td>\n",
       "      <td>0.0</td>\n",
       "      <td>0.0</td>\n",
       "      <td>0.0</td>\n",
       "      <td>0.0</td>\n",
       "    </tr>\n",
       "    <tr>\n",
       "      <th>4951</th>\n",
       "      <td>1977</td>\n",
       "      <td>7</td>\n",
       "      <td>14</td>\n",
       "      <td>0</td>\n",
       "      <td>209</td>\n",
       "      <td>Turkey</td>\n",
       "      <td>10</td>\n",
       "      <td>41.015059</td>\n",
       "      <td>28.940847</td>\n",
       "      <td>0</td>\n",
       "      <td>...</td>\n",
       "      <td>209.0</td>\n",
       "      <td>Turkey</td>\n",
       "      <td>0</td>\n",
       "      <td>NaN</td>\n",
       "      <td>6</td>\n",
       "      <td>Explosives/Bombs/Dynamite</td>\n",
       "      <td>0.0</td>\n",
       "      <td>0.0</td>\n",
       "      <td>0.0</td>\n",
       "      <td>0.0</td>\n",
       "    </tr>\n",
       "    <tr>\n",
       "      <th>4953</th>\n",
       "      <td>1977</td>\n",
       "      <td>7</td>\n",
       "      <td>15</td>\n",
       "      <td>0</td>\n",
       "      <td>209</td>\n",
       "      <td>Turkey</td>\n",
       "      <td>10</td>\n",
       "      <td>37.001163</td>\n",
       "      <td>35.331687</td>\n",
       "      <td>0</td>\n",
       "      <td>...</td>\n",
       "      <td>209.0</td>\n",
       "      <td>Turkey</td>\n",
       "      <td>0</td>\n",
       "      <td>NaN</td>\n",
       "      <td>6</td>\n",
       "      <td>Explosives/Bombs/Dynamite</td>\n",
       "      <td>NaN</td>\n",
       "      <td>NaN</td>\n",
       "      <td>NaN</td>\n",
       "      <td>NaN</td>\n",
       "    </tr>\n",
       "    <tr>\n",
       "      <th>4954</th>\n",
       "      <td>1977</td>\n",
       "      <td>7</td>\n",
       "      <td>15</td>\n",
       "      <td>0</td>\n",
       "      <td>209</td>\n",
       "      <td>Turkey</td>\n",
       "      <td>10</td>\n",
       "      <td>37.001163</td>\n",
       "      <td>35.331687</td>\n",
       "      <td>0</td>\n",
       "      <td>...</td>\n",
       "      <td>209.0</td>\n",
       "      <td>Turkey</td>\n",
       "      <td>0</td>\n",
       "      <td>NaN</td>\n",
       "      <td>6</td>\n",
       "      <td>Explosives/Bombs/Dynamite</td>\n",
       "      <td>0.0</td>\n",
       "      <td>0.0</td>\n",
       "      <td>0.0</td>\n",
       "      <td>0.0</td>\n",
       "    </tr>\n",
       "  </tbody>\n",
       "</table>\n",
       "<p>200 rows × 26 columns</p>\n",
       "</div>"
      ],
      "text/plain": [
       "      iyear  imonth  iday  extended  country country_txt  region   latitude  \\\n",
       "226    1970       4    25         0      209      Turkey      10  41.014836   \n",
       "486    1970       8    31         0      209      Turkey      10  39.918392   \n",
       "531    1970      10     2         0      209      Turkey      10  38.423708   \n",
       "534    1970      10     3         0      209      Turkey      10  39.918392   \n",
       "535    1970      10     3         0      209      Turkey      10  39.918392   \n",
       "...     ...     ...   ...       ...      ...         ...     ...        ...   \n",
       "4938   1977       7    13         0      209      Turkey      10  39.922071   \n",
       "4941   1977       7    13         0      209      Turkey      10  37.868792   \n",
       "4951   1977       7    14         0      209      Turkey      10  41.015059   \n",
       "4953   1977       7    15         0      209      Turkey      10  37.001163   \n",
       "4954   1977       7    15         0      209      Turkey      10  37.001163   \n",
       "\n",
       "      longitude  multiple  ...  natlty1    natlty1_txt  individual claimed  \\\n",
       "226   28.961414         0  ...     97.0         Israel           0     NaN   \n",
       "486   32.865597         0  ...    217.0  United States           0     NaN   \n",
       "531   27.134205         0  ...    217.0  United States           0     NaN   \n",
       "534   32.865597         0  ...    217.0  United States           0     NaN   \n",
       "535   32.865597         0  ...    217.0  United States           0     NaN   \n",
       "...         ...       ...  ...      ...            ...         ...     ...   \n",
       "4938  32.853471         0  ...      NaN            NaN           0     NaN   \n",
       "4941  32.484456         0  ...    209.0         Turkey           0     NaN   \n",
       "4951  28.940847         0  ...    209.0         Turkey           0     NaN   \n",
       "4953  35.331687         0  ...    209.0         Turkey           0     NaN   \n",
       "4954  35.331687         0  ...    209.0         Turkey           0     NaN   \n",
       "\n",
       "      weaptype1              weaptype1_txt  nkill nkillter  nwound  nwoundte  \n",
       "226           6  Explosives/Bombs/Dynamite    0.0      NaN     0.0       NaN  \n",
       "486           6  Explosives/Bombs/Dynamite    0.0      NaN     0.0       NaN  \n",
       "531           6  Explosives/Bombs/Dynamite    0.0      NaN     0.0       NaN  \n",
       "534           6  Explosives/Bombs/Dynamite    NaN      NaN     NaN       NaN  \n",
       "535           6  Explosives/Bombs/Dynamite    0.0      NaN     0.0       NaN  \n",
       "...         ...                        ...    ...      ...     ...       ...  \n",
       "4938          5                   Firearms    0.0      NaN     1.0       NaN  \n",
       "4941          6  Explosives/Bombs/Dynamite    0.0      0.0     0.0       0.0  \n",
       "4951          6  Explosives/Bombs/Dynamite    0.0      0.0     0.0       0.0  \n",
       "4953          6  Explosives/Bombs/Dynamite    NaN      NaN     NaN       NaN  \n",
       "4954          6  Explosives/Bombs/Dynamite    0.0      0.0     0.0       0.0  \n",
       "\n",
       "[200 rows x 26 columns]"
      ]
     },
     "execution_count": 6,
     "metadata": {},
     "output_type": "execute_result"
    }
   ],
   "source": [
    "df_turkey.head(200)"
   ]
  },
  {
   "cell_type": "code",
   "execution_count": 7,
   "id": "cf774cd5",
   "metadata": {},
   "outputs": [
    {
     "name": "stdout",
     "output_type": "stream",
     "text": [
      "<class 'pandas.core.frame.DataFrame'>\n",
      "Index: 4106 entries, 226 to 170026\n",
      "Data columns (total 26 columns):\n",
      " #   Column           Non-Null Count  Dtype  \n",
      "---  ------           --------------  -----  \n",
      " 0   iyear            4106 non-null   int64  \n",
      " 1   imonth           4106 non-null   int64  \n",
      " 2   iday             4106 non-null   int64  \n",
      " 3   extended         4106 non-null   int64  \n",
      " 4   country          4106 non-null   int64  \n",
      " 5   country_txt      4106 non-null   object \n",
      " 6   region           4106 non-null   int64  \n",
      " 7   latitude         3942 non-null   float64\n",
      " 8   longitude        3942 non-null   float64\n",
      " 9   multiple         4106 non-null   int64  \n",
      " 10  success          4106 non-null   int64  \n",
      " 11  suicide          4106 non-null   int64  \n",
      " 12  attacktype1      4106 non-null   int64  \n",
      " 13  attacktype1_txt  4106 non-null   object \n",
      " 14  targtype1        4106 non-null   int64  \n",
      " 15  targtype1_txt    4106 non-null   object \n",
      " 16  natlty1          4085 non-null   float64\n",
      " 17  natlty1_txt      4085 non-null   object \n",
      " 18  individual       4106 non-null   int64  \n",
      " 19  claimed          1750 non-null   float64\n",
      " 20  weaptype1        4106 non-null   int64  \n",
      " 21  weaptype1_txt    4106 non-null   object \n",
      " 22  nkill            3974 non-null   float64\n",
      " 23  nkillter         1887 non-null   float64\n",
      " 24  nwound           3948 non-null   float64\n",
      " 25  nwoundte         1862 non-null   float64\n",
      "dtypes: float64(8), int64(13), object(5)\n",
      "memory usage: 866.1+ KB\n"
     ]
    }
   ],
   "source": [
    "df_turkey.info()"
   ]
  },
  {
   "cell_type": "markdown",
   "id": "a8853f7f",
   "metadata": {},
   "source": [
    "# eksik verilerileri üzerinde işlem \n",
    "1- isnull() : eksik değerler için true gönderir.\n",
    "2- notnull(): isnull tam tersi işlem yapar.\n",
    "3- dropna() : eksik verileri kaldırır.\n",
    "4- fillna() : eksik verileri doldurur.\n",
    "\n"
   ]
  },
  {
   "cell_type": "code",
   "execution_count": 8,
   "id": "c675aced",
   "metadata": {},
   "outputs": [],
   "source": [
    "df_turkey = df_turkey.drop([ 'region', 'country', 'country_txt','claimed', 'nkillter', 'nwoundte'],axis=1)"
   ]
  },
  {
   "cell_type": "code",
   "execution_count": 9,
   "id": "f68ce53b",
   "metadata": {},
   "outputs": [
    {
     "data": {
      "text/plain": [
       "20"
      ]
     },
     "execution_count": 9,
     "metadata": {},
     "output_type": "execute_result"
    }
   ],
   "source": [
    "len(df_turkey.columns)"
   ]
  },
  {
   "cell_type": "code",
   "execution_count": 10,
   "id": "cf189eac",
   "metadata": {},
   "outputs": [
    {
     "data": {
      "text/plain": [
       "26"
      ]
     },
     "execution_count": 10,
     "metadata": {},
     "output_type": "execute_result"
    }
   ],
   "source": [
    "len(df.columns)"
   ]
  },
  {
   "cell_type": "markdown",
   "id": "30bf04bf",
   "metadata": {},
   "source": [
    "ana verisetinden sadece türkiye ile ilgilendiğimiz için bölge adı, ülke kodu ve ülke adı ve diğer gereksiz boş NAN değerler içeren sütünları kaldırabiliriz. "
   ]
  },
  {
   "cell_type": "code",
   "execution_count": 11,
   "id": "fa7f73a0",
   "metadata": {},
   "outputs": [
    {
     "data": {
      "text/plain": [
       "iyear                0\n",
       "imonth               0\n",
       "iday                 0\n",
       "extended             0\n",
       "latitude           164\n",
       "longitude          164\n",
       "multiple             0\n",
       "success              0\n",
       "suicide              0\n",
       "attacktype1          0\n",
       "attacktype1_txt      0\n",
       "targtype1            0\n",
       "targtype1_txt        0\n",
       "natlty1             21\n",
       "natlty1_txt         21\n",
       "individual           0\n",
       "weaptype1            0\n",
       "weaptype1_txt        0\n",
       "nkill              132\n",
       "nwound             158\n",
       "dtype: int64"
      ]
     },
     "execution_count": 11,
     "metadata": {},
     "output_type": "execute_result"
    }
   ],
   "source": [
    "df_turkey.isnull().sum()"
   ]
  },
  {
   "cell_type": "code",
   "execution_count": 12,
   "id": "8c82f853",
   "metadata": {},
   "outputs": [
    {
     "data": {
      "text/plain": [
       "132"
      ]
     },
     "execution_count": 12,
     "metadata": {},
     "output_type": "execute_result"
    }
   ],
   "source": [
    "df_turkey['nkill'].isnull().sum()"
   ]
  },
  {
   "cell_type": "code",
   "execution_count": 13,
   "id": "863f95a5",
   "metadata": {},
   "outputs": [
    {
     "data": {
      "text/plain": [
       "226        0.0\n",
       "486        0.0\n",
       "531        0.0\n",
       "535        0.0\n",
       "539        0.0\n",
       "          ... \n",
       "169752    82.0\n",
       "169845     0.0\n",
       "169930    53.0\n",
       "169988     3.0\n",
       "170026     0.0\n",
       "Name: nwound, Length: 3948, dtype: float64"
      ]
     },
     "execution_count": 13,
     "metadata": {},
     "output_type": "execute_result"
    }
   ],
   "source": [
    "df_turkey['nwound'].dropna()\n"
   ]
  },
  {
   "cell_type": "code",
   "execution_count": 14,
   "id": "a0f2eb1b",
   "metadata": {},
   "outputs": [
    {
     "data": {
      "text/html": [
       "<div>\n",
       "<style scoped>\n",
       "    .dataframe tbody tr th:only-of-type {\n",
       "        vertical-align: middle;\n",
       "    }\n",
       "\n",
       "    .dataframe tbody tr th {\n",
       "        vertical-align: top;\n",
       "    }\n",
       "\n",
       "    .dataframe thead th {\n",
       "        text-align: right;\n",
       "    }\n",
       "</style>\n",
       "<table border=\"1\" class=\"dataframe\">\n",
       "  <thead>\n",
       "    <tr style=\"text-align: right;\">\n",
       "      <th></th>\n",
       "      <th>iyear</th>\n",
       "      <th>imonth</th>\n",
       "      <th>iday</th>\n",
       "      <th>extended</th>\n",
       "      <th>latitude</th>\n",
       "      <th>longitude</th>\n",
       "      <th>multiple</th>\n",
       "      <th>success</th>\n",
       "      <th>suicide</th>\n",
       "      <th>attacktype1</th>\n",
       "      <th>attacktype1_txt</th>\n",
       "      <th>targtype1</th>\n",
       "      <th>targtype1_txt</th>\n",
       "      <th>natlty1</th>\n",
       "      <th>natlty1_txt</th>\n",
       "      <th>individual</th>\n",
       "      <th>weaptype1</th>\n",
       "      <th>weaptype1_txt</th>\n",
       "      <th>nkill</th>\n",
       "      <th>nwound</th>\n",
       "    </tr>\n",
       "  </thead>\n",
       "  <tbody>\n",
       "    <tr>\n",
       "      <th>226</th>\n",
       "      <td>1970</td>\n",
       "      <td>4</td>\n",
       "      <td>25</td>\n",
       "      <td>0</td>\n",
       "      <td>41.014836</td>\n",
       "      <td>28.961414</td>\n",
       "      <td>0</td>\n",
       "      <td>1</td>\n",
       "      <td>0</td>\n",
       "      <td>3</td>\n",
       "      <td>Bombing/Explosion</td>\n",
       "      <td>6</td>\n",
       "      <td>Airports &amp; Aircraft</td>\n",
       "      <td>97.0</td>\n",
       "      <td>Israel</td>\n",
       "      <td>0</td>\n",
       "      <td>6</td>\n",
       "      <td>Explosives/Bombs/Dynamite</td>\n",
       "      <td>0.0</td>\n",
       "      <td>0.0</td>\n",
       "    </tr>\n",
       "    <tr>\n",
       "      <th>486</th>\n",
       "      <td>1970</td>\n",
       "      <td>8</td>\n",
       "      <td>31</td>\n",
       "      <td>0</td>\n",
       "      <td>39.918392</td>\n",
       "      <td>32.865597</td>\n",
       "      <td>0</td>\n",
       "      <td>1</td>\n",
       "      <td>0</td>\n",
       "      <td>3</td>\n",
       "      <td>Bombing/Explosion</td>\n",
       "      <td>4</td>\n",
       "      <td>Military</td>\n",
       "      <td>217.0</td>\n",
       "      <td>United States</td>\n",
       "      <td>0</td>\n",
       "      <td>6</td>\n",
       "      <td>Explosives/Bombs/Dynamite</td>\n",
       "      <td>0.0</td>\n",
       "      <td>0.0</td>\n",
       "    </tr>\n",
       "    <tr>\n",
       "      <th>531</th>\n",
       "      <td>1970</td>\n",
       "      <td>10</td>\n",
       "      <td>2</td>\n",
       "      <td>0</td>\n",
       "      <td>38.423708</td>\n",
       "      <td>27.134205</td>\n",
       "      <td>0</td>\n",
       "      <td>1</td>\n",
       "      <td>0</td>\n",
       "      <td>3</td>\n",
       "      <td>Bombing/Explosion</td>\n",
       "      <td>4</td>\n",
       "      <td>Military</td>\n",
       "      <td>217.0</td>\n",
       "      <td>United States</td>\n",
       "      <td>0</td>\n",
       "      <td>6</td>\n",
       "      <td>Explosives/Bombs/Dynamite</td>\n",
       "      <td>0.0</td>\n",
       "      <td>0.0</td>\n",
       "    </tr>\n",
       "    <tr>\n",
       "      <th>534</th>\n",
       "      <td>1970</td>\n",
       "      <td>10</td>\n",
       "      <td>3</td>\n",
       "      <td>0</td>\n",
       "      <td>39.918392</td>\n",
       "      <td>32.865597</td>\n",
       "      <td>0</td>\n",
       "      <td>1</td>\n",
       "      <td>0</td>\n",
       "      <td>3</td>\n",
       "      <td>Bombing/Explosion</td>\n",
       "      <td>7</td>\n",
       "      <td>Government (Diplomatic)</td>\n",
       "      <td>217.0</td>\n",
       "      <td>United States</td>\n",
       "      <td>0</td>\n",
       "      <td>6</td>\n",
       "      <td>Explosives/Bombs/Dynamite</td>\n",
       "      <td>NaN</td>\n",
       "      <td>NaN</td>\n",
       "    </tr>\n",
       "    <tr>\n",
       "      <th>535</th>\n",
       "      <td>1970</td>\n",
       "      <td>10</td>\n",
       "      <td>3</td>\n",
       "      <td>0</td>\n",
       "      <td>39.918392</td>\n",
       "      <td>32.865597</td>\n",
       "      <td>0</td>\n",
       "      <td>1</td>\n",
       "      <td>0</td>\n",
       "      <td>3</td>\n",
       "      <td>Bombing/Explosion</td>\n",
       "      <td>1</td>\n",
       "      <td>Business</td>\n",
       "      <td>217.0</td>\n",
       "      <td>United States</td>\n",
       "      <td>0</td>\n",
       "      <td>6</td>\n",
       "      <td>Explosives/Bombs/Dynamite</td>\n",
       "      <td>0.0</td>\n",
       "      <td>0.0</td>\n",
       "    </tr>\n",
       "  </tbody>\n",
       "</table>\n",
       "</div>"
      ],
      "text/plain": [
       "     iyear  imonth  iday  extended   latitude  longitude  multiple  success  \\\n",
       "226   1970       4    25         0  41.014836  28.961414         0        1   \n",
       "486   1970       8    31         0  39.918392  32.865597         0        1   \n",
       "531   1970      10     2         0  38.423708  27.134205         0        1   \n",
       "534   1970      10     3         0  39.918392  32.865597         0        1   \n",
       "535   1970      10     3         0  39.918392  32.865597         0        1   \n",
       "\n",
       "     suicide  attacktype1    attacktype1_txt  targtype1  \\\n",
       "226        0            3  Bombing/Explosion          6   \n",
       "486        0            3  Bombing/Explosion          4   \n",
       "531        0            3  Bombing/Explosion          4   \n",
       "534        0            3  Bombing/Explosion          7   \n",
       "535        0            3  Bombing/Explosion          1   \n",
       "\n",
       "               targtype1_txt  natlty1    natlty1_txt  individual  weaptype1  \\\n",
       "226      Airports & Aircraft     97.0         Israel           0          6   \n",
       "486                 Military    217.0  United States           0          6   \n",
       "531                 Military    217.0  United States           0          6   \n",
       "534  Government (Diplomatic)    217.0  United States           0          6   \n",
       "535                 Business    217.0  United States           0          6   \n",
       "\n",
       "                 weaptype1_txt  nkill  nwound  \n",
       "226  Explosives/Bombs/Dynamite    0.0     0.0  \n",
       "486  Explosives/Bombs/Dynamite    0.0     0.0  \n",
       "531  Explosives/Bombs/Dynamite    0.0     0.0  \n",
       "534  Explosives/Bombs/Dynamite    NaN     NaN  \n",
       "535  Explosives/Bombs/Dynamite    0.0     0.0  "
      ]
     },
     "execution_count": 14,
     "metadata": {},
     "output_type": "execute_result"
    }
   ],
   "source": [
    "df_turkey.head()"
   ]
  },
  {
   "cell_type": "code",
   "execution_count": 15,
   "id": "80e22c83",
   "metadata": {},
   "outputs": [
    {
     "data": {
      "text/plain": [
       "iyear                0\n",
       "imonth               0\n",
       "iday                 0\n",
       "extended             0\n",
       "latitude           164\n",
       "longitude          164\n",
       "multiple             0\n",
       "success              0\n",
       "suicide              0\n",
       "attacktype1          0\n",
       "attacktype1_txt      0\n",
       "targtype1            0\n",
       "targtype1_txt        0\n",
       "natlty1             21\n",
       "natlty1_txt         21\n",
       "individual           0\n",
       "weaptype1            0\n",
       "weaptype1_txt        0\n",
       "nkill              132\n",
       "nwound             158\n",
       "dtype: int64"
      ]
     },
     "execution_count": 15,
     "metadata": {},
     "output_type": "execute_result"
    }
   ],
   "source": [
    "df_turkey.isnull().sum()"
   ]
  },
  {
   "cell_type": "code",
   "execution_count": 16,
   "id": "133a6b5f",
   "metadata": {},
   "outputs": [
    {
     "data": {
      "text/html": [
       "<div>\n",
       "<style scoped>\n",
       "    .dataframe tbody tr th:only-of-type {\n",
       "        vertical-align: middle;\n",
       "    }\n",
       "\n",
       "    .dataframe tbody tr th {\n",
       "        vertical-align: top;\n",
       "    }\n",
       "\n",
       "    .dataframe thead th {\n",
       "        text-align: right;\n",
       "    }\n",
       "</style>\n",
       "<table border=\"1\" class=\"dataframe\">\n",
       "  <thead>\n",
       "    <tr style=\"text-align: right;\">\n",
       "      <th></th>\n",
       "      <th>iyear</th>\n",
       "      <th>imonth</th>\n",
       "      <th>iday</th>\n",
       "      <th>extended</th>\n",
       "      <th>latitude</th>\n",
       "      <th>longitude</th>\n",
       "      <th>multiple</th>\n",
       "      <th>success</th>\n",
       "      <th>suicide</th>\n",
       "      <th>attacktype1</th>\n",
       "      <th>targtype1</th>\n",
       "      <th>natlty1</th>\n",
       "      <th>individual</th>\n",
       "      <th>weaptype1</th>\n",
       "      <th>nkill</th>\n",
       "      <th>nwound</th>\n",
       "    </tr>\n",
       "  </thead>\n",
       "  <tbody>\n",
       "    <tr>\n",
       "      <th>count</th>\n",
       "      <td>4106.000000</td>\n",
       "      <td>4106.000000</td>\n",
       "      <td>4106.000000</td>\n",
       "      <td>4106.000000</td>\n",
       "      <td>3942.000000</td>\n",
       "      <td>3942.000000</td>\n",
       "      <td>4106.000000</td>\n",
       "      <td>4106.000000</td>\n",
       "      <td>4106.000000</td>\n",
       "      <td>4106.000000</td>\n",
       "      <td>4106.000000</td>\n",
       "      <td>4085.000000</td>\n",
       "      <td>4106.000000</td>\n",
       "      <td>4106.000000</td>\n",
       "      <td>3974.000000</td>\n",
       "      <td>3948.000000</td>\n",
       "    </tr>\n",
       "    <tr>\n",
       "      <th>mean</th>\n",
       "      <td>1998.349489</td>\n",
       "      <td>6.496590</td>\n",
       "      <td>16.048466</td>\n",
       "      <td>0.024598</td>\n",
       "      <td>38.988434</td>\n",
       "      <td>36.297783</td>\n",
       "      <td>0.113249</td>\n",
       "      <td>0.915733</td>\n",
       "      <td>0.016561</td>\n",
       "      <td>3.071359</td>\n",
       "      <td>6.755967</td>\n",
       "      <td>208.355202</td>\n",
       "      <td>0.000731</td>\n",
       "      <td>6.285679</td>\n",
       "      <td>1.676900</td>\n",
       "      <td>2.424519</td>\n",
       "    </tr>\n",
       "    <tr>\n",
       "      <th>std</th>\n",
       "      <td>13.257384</td>\n",
       "      <td>3.115732</td>\n",
       "      <td>8.779937</td>\n",
       "      <td>0.154916</td>\n",
       "      <td>1.558787</td>\n",
       "      <td>5.907184</td>\n",
       "      <td>0.316935</td>\n",
       "      <td>0.277822</td>\n",
       "      <td>0.127636</td>\n",
       "      <td>1.815490</td>\n",
       "      <td>6.113811</td>\n",
       "      <td>36.949543</td>\n",
       "      <td>0.027024</td>\n",
       "      <td>2.031656</td>\n",
       "      <td>4.460954</td>\n",
       "      <td>11.540222</td>\n",
       "    </tr>\n",
       "    <tr>\n",
       "      <th>min</th>\n",
       "      <td>1970.000000</td>\n",
       "      <td>0.000000</td>\n",
       "      <td>0.000000</td>\n",
       "      <td>0.000000</td>\n",
       "      <td>35.819484</td>\n",
       "      <td>26.303357</td>\n",
       "      <td>0.000000</td>\n",
       "      <td>0.000000</td>\n",
       "      <td>0.000000</td>\n",
       "      <td>1.000000</td>\n",
       "      <td>1.000000</td>\n",
       "      <td>6.000000</td>\n",
       "      <td>0.000000</td>\n",
       "      <td>2.000000</td>\n",
       "      <td>0.000000</td>\n",
       "      <td>0.000000</td>\n",
       "    </tr>\n",
       "    <tr>\n",
       "      <th>25%</th>\n",
       "      <td>1991.000000</td>\n",
       "      <td>4.000000</td>\n",
       "      <td>9.000000</td>\n",
       "      <td>0.000000</td>\n",
       "      <td>37.518974</td>\n",
       "      <td>28.960465</td>\n",
       "      <td>0.000000</td>\n",
       "      <td>1.000000</td>\n",
       "      <td>0.000000</td>\n",
       "      <td>2.000000</td>\n",
       "      <td>2.000000</td>\n",
       "      <td>209.000000</td>\n",
       "      <td>0.000000</td>\n",
       "      <td>5.000000</td>\n",
       "      <td>0.000000</td>\n",
       "      <td>0.000000</td>\n",
       "    </tr>\n",
       "    <tr>\n",
       "      <th>50%</th>\n",
       "      <td>1994.000000</td>\n",
       "      <td>7.000000</td>\n",
       "      <td>16.000000</td>\n",
       "      <td>0.000000</td>\n",
       "      <td>38.504136</td>\n",
       "      <td>38.276758</td>\n",
       "      <td>0.000000</td>\n",
       "      <td>1.000000</td>\n",
       "      <td>0.000000</td>\n",
       "      <td>3.000000</td>\n",
       "      <td>4.000000</td>\n",
       "      <td>209.000000</td>\n",
       "      <td>0.000000</td>\n",
       "      <td>6.000000</td>\n",
       "      <td>0.000000</td>\n",
       "      <td>0.000000</td>\n",
       "    </tr>\n",
       "    <tr>\n",
       "      <th>75%</th>\n",
       "      <td>2014.000000</td>\n",
       "      <td>9.000000</td>\n",
       "      <td>24.000000</td>\n",
       "      <td>0.000000</td>\n",
       "      <td>41.008342</td>\n",
       "      <td>41.491430</td>\n",
       "      <td>0.000000</td>\n",
       "      <td>1.000000</td>\n",
       "      <td>0.000000</td>\n",
       "      <td>3.000000</td>\n",
       "      <td>14.000000</td>\n",
       "      <td>209.000000</td>\n",
       "      <td>0.000000</td>\n",
       "      <td>6.000000</td>\n",
       "      <td>2.000000</td>\n",
       "      <td>1.000000</td>\n",
       "    </tr>\n",
       "    <tr>\n",
       "      <th>max</th>\n",
       "      <td>2016.000000</td>\n",
       "      <td>12.000000</td>\n",
       "      <td>31.000000</td>\n",
       "      <td>1.000000</td>\n",
       "      <td>41.954099</td>\n",
       "      <td>44.799770</td>\n",
       "      <td>1.000000</td>\n",
       "      <td>1.000000</td>\n",
       "      <td>1.000000</td>\n",
       "      <td>9.000000</td>\n",
       "      <td>22.000000</td>\n",
       "      <td>999.000000</td>\n",
       "      <td>1.000000</td>\n",
       "      <td>13.000000</td>\n",
       "      <td>105.000000</td>\n",
       "      <td>245.000000</td>\n",
       "    </tr>\n",
       "  </tbody>\n",
       "</table>\n",
       "</div>"
      ],
      "text/plain": [
       "             iyear       imonth         iday     extended     latitude  \\\n",
       "count  4106.000000  4106.000000  4106.000000  4106.000000  3942.000000   \n",
       "mean   1998.349489     6.496590    16.048466     0.024598    38.988434   \n",
       "std      13.257384     3.115732     8.779937     0.154916     1.558787   \n",
       "min    1970.000000     0.000000     0.000000     0.000000    35.819484   \n",
       "25%    1991.000000     4.000000     9.000000     0.000000    37.518974   \n",
       "50%    1994.000000     7.000000    16.000000     0.000000    38.504136   \n",
       "75%    2014.000000     9.000000    24.000000     0.000000    41.008342   \n",
       "max    2016.000000    12.000000    31.000000     1.000000    41.954099   \n",
       "\n",
       "         longitude     multiple      success      suicide  attacktype1  \\\n",
       "count  3942.000000  4106.000000  4106.000000  4106.000000  4106.000000   \n",
       "mean     36.297783     0.113249     0.915733     0.016561     3.071359   \n",
       "std       5.907184     0.316935     0.277822     0.127636     1.815490   \n",
       "min      26.303357     0.000000     0.000000     0.000000     1.000000   \n",
       "25%      28.960465     0.000000     1.000000     0.000000     2.000000   \n",
       "50%      38.276758     0.000000     1.000000     0.000000     3.000000   \n",
       "75%      41.491430     0.000000     1.000000     0.000000     3.000000   \n",
       "max      44.799770     1.000000     1.000000     1.000000     9.000000   \n",
       "\n",
       "         targtype1      natlty1   individual    weaptype1        nkill  \\\n",
       "count  4106.000000  4085.000000  4106.000000  4106.000000  3974.000000   \n",
       "mean      6.755967   208.355202     0.000731     6.285679     1.676900   \n",
       "std       6.113811    36.949543     0.027024     2.031656     4.460954   \n",
       "min       1.000000     6.000000     0.000000     2.000000     0.000000   \n",
       "25%       2.000000   209.000000     0.000000     5.000000     0.000000   \n",
       "50%       4.000000   209.000000     0.000000     6.000000     0.000000   \n",
       "75%      14.000000   209.000000     0.000000     6.000000     2.000000   \n",
       "max      22.000000   999.000000     1.000000    13.000000   105.000000   \n",
       "\n",
       "            nwound  \n",
       "count  3948.000000  \n",
       "mean      2.424519  \n",
       "std      11.540222  \n",
       "min       0.000000  \n",
       "25%       0.000000  \n",
       "50%       0.000000  \n",
       "75%       1.000000  \n",
       "max     245.000000  "
      ]
     },
     "execution_count": 16,
     "metadata": {},
     "output_type": "execute_result"
    }
   ],
   "source": [
    "df_turkey.describe()"
   ]
  },
  {
   "cell_type": "markdown",
   "id": "7e9016c0",
   "metadata": {},
   "source": [
    "türkiyede olan 1970-2016 yılına ait terör olaylarındaki ortalama  gerçekleştiği ay haziran ayı ile temmuz ayı olarak söylebiliriz gün olarak ise her yine ortalama her ayın 16' sı olarak yorumlanabilir. Yaşana bu saldırılarda ölen kişi sayısı ortalama 1.6 kişi yaralı sayısı ise 2.4 olarak söyleyebiliriz."
   ]
  },
  {
   "cell_type": "code",
   "execution_count": 17,
   "id": "1ee73682",
   "metadata": {},
   "outputs": [
    {
     "name": "stdout",
     "output_type": "stream",
     "text": [
      "<class 'pandas.core.frame.DataFrame'>\n",
      "Index: 4106 entries, 226 to 170026\n",
      "Data columns (total 20 columns):\n",
      " #   Column           Non-Null Count  Dtype  \n",
      "---  ------           --------------  -----  \n",
      " 0   iyear            4106 non-null   int64  \n",
      " 1   imonth           4106 non-null   int64  \n",
      " 2   iday             4106 non-null   int64  \n",
      " 3   extended         4106 non-null   int64  \n",
      " 4   latitude         3942 non-null   float64\n",
      " 5   longitude        3942 non-null   float64\n",
      " 6   multiple         4106 non-null   int64  \n",
      " 7   success          4106 non-null   int64  \n",
      " 8   suicide          4106 non-null   int64  \n",
      " 9   attacktype1      4106 non-null   int64  \n",
      " 10  attacktype1_txt  4106 non-null   object \n",
      " 11  targtype1        4106 non-null   int64  \n",
      " 12  targtype1_txt    4106 non-null   object \n",
      " 13  natlty1          4085 non-null   float64\n",
      " 14  natlty1_txt      4085 non-null   object \n",
      " 15  individual       4106 non-null   int64  \n",
      " 16  weaptype1        4106 non-null   int64  \n",
      " 17  weaptype1_txt    4106 non-null   object \n",
      " 18  nkill            3974 non-null   float64\n",
      " 19  nwound           3948 non-null   float64\n",
      "dtypes: float64(5), int64(11), object(4)\n",
      "memory usage: 673.6+ KB\n"
     ]
    }
   ],
   "source": [
    "df_turkey.info()"
   ]
  },
  {
   "cell_type": "code",
   "execution_count": 18,
   "id": "3f46e094",
   "metadata": {},
   "outputs": [
    {
     "data": {
      "text/html": [
       "<div>\n",
       "<style scoped>\n",
       "    .dataframe tbody tr th:only-of-type {\n",
       "        vertical-align: middle;\n",
       "    }\n",
       "\n",
       "    .dataframe tbody tr th {\n",
       "        vertical-align: top;\n",
       "    }\n",
       "\n",
       "    .dataframe thead th {\n",
       "        text-align: right;\n",
       "    }\n",
       "</style>\n",
       "<table border=\"1\" class=\"dataframe\">\n",
       "  <thead>\n",
       "    <tr style=\"text-align: right;\">\n",
       "      <th></th>\n",
       "      <th>iyear</th>\n",
       "      <th>imonth</th>\n",
       "      <th>iday</th>\n",
       "      <th>extended</th>\n",
       "      <th>latitude</th>\n",
       "      <th>longitude</th>\n",
       "      <th>multiple</th>\n",
       "      <th>success</th>\n",
       "      <th>suicide</th>\n",
       "      <th>attacktype1</th>\n",
       "      <th>attacktype1_txt</th>\n",
       "      <th>targtype1</th>\n",
       "      <th>targtype1_txt</th>\n",
       "      <th>natlty1</th>\n",
       "      <th>natlty1_txt</th>\n",
       "      <th>individual</th>\n",
       "      <th>weaptype1</th>\n",
       "      <th>weaptype1_txt</th>\n",
       "      <th>nkill</th>\n",
       "      <th>nwound</th>\n",
       "    </tr>\n",
       "  </thead>\n",
       "  <tbody>\n",
       "    <tr>\n",
       "      <th>169752</th>\n",
       "      <td>2016</td>\n",
       "      <td>12</td>\n",
       "      <td>10</td>\n",
       "      <td>0</td>\n",
       "      <td>41.040413</td>\n",
       "      <td>28.994050</td>\n",
       "      <td>1</td>\n",
       "      <td>1</td>\n",
       "      <td>1</td>\n",
       "      <td>3</td>\n",
       "      <td>Bombing/Explosion</td>\n",
       "      <td>1</td>\n",
       "      <td>Business</td>\n",
       "      <td>209.0</td>\n",
       "      <td>Turkey</td>\n",
       "      <td>0</td>\n",
       "      <td>6</td>\n",
       "      <td>Explosives/Bombs/Dynamite</td>\n",
       "      <td>24.0</td>\n",
       "      <td>82.0</td>\n",
       "    </tr>\n",
       "    <tr>\n",
       "      <th>169845</th>\n",
       "      <td>2016</td>\n",
       "      <td>12</td>\n",
       "      <td>13</td>\n",
       "      <td>0</td>\n",
       "      <td>38.398583</td>\n",
       "      <td>27.078404</td>\n",
       "      <td>0</td>\n",
       "      <td>0</td>\n",
       "      <td>0</td>\n",
       "      <td>2</td>\n",
       "      <td>Armed Assault</td>\n",
       "      <td>1</td>\n",
       "      <td>Business</td>\n",
       "      <td>209.0</td>\n",
       "      <td>Turkey</td>\n",
       "      <td>0</td>\n",
       "      <td>9</td>\n",
       "      <td>Melee</td>\n",
       "      <td>0.0</td>\n",
       "      <td>0.0</td>\n",
       "    </tr>\n",
       "    <tr>\n",
       "      <th>169930</th>\n",
       "      <td>2016</td>\n",
       "      <td>12</td>\n",
       "      <td>17</td>\n",
       "      <td>0</td>\n",
       "      <td>38.720489</td>\n",
       "      <td>35.482597</td>\n",
       "      <td>0</td>\n",
       "      <td>1</td>\n",
       "      <td>1</td>\n",
       "      <td>3</td>\n",
       "      <td>Bombing/Explosion</td>\n",
       "      <td>4</td>\n",
       "      <td>Military</td>\n",
       "      <td>209.0</td>\n",
       "      <td>Turkey</td>\n",
       "      <td>0</td>\n",
       "      <td>6</td>\n",
       "      <td>Explosives/Bombs/Dynamite</td>\n",
       "      <td>16.0</td>\n",
       "      <td>53.0</td>\n",
       "    </tr>\n",
       "    <tr>\n",
       "      <th>169988</th>\n",
       "      <td>2016</td>\n",
       "      <td>12</td>\n",
       "      <td>19</td>\n",
       "      <td>0</td>\n",
       "      <td>39.909138</td>\n",
       "      <td>32.859192</td>\n",
       "      <td>0</td>\n",
       "      <td>1</td>\n",
       "      <td>0</td>\n",
       "      <td>1</td>\n",
       "      <td>Assassination</td>\n",
       "      <td>7</td>\n",
       "      <td>Government (Diplomatic)</td>\n",
       "      <td>167.0</td>\n",
       "      <td>Russia</td>\n",
       "      <td>0</td>\n",
       "      <td>5</td>\n",
       "      <td>Firearms</td>\n",
       "      <td>2.0</td>\n",
       "      <td>3.0</td>\n",
       "    </tr>\n",
       "    <tr>\n",
       "      <th>170026</th>\n",
       "      <td>2016</td>\n",
       "      <td>12</td>\n",
       "      <td>20</td>\n",
       "      <td>0</td>\n",
       "      <td>39.908201</td>\n",
       "      <td>32.856257</td>\n",
       "      <td>0</td>\n",
       "      <td>0</td>\n",
       "      <td>0</td>\n",
       "      <td>2</td>\n",
       "      <td>Armed Assault</td>\n",
       "      <td>7</td>\n",
       "      <td>Government (Diplomatic)</td>\n",
       "      <td>217.0</td>\n",
       "      <td>United States</td>\n",
       "      <td>0</td>\n",
       "      <td>5</td>\n",
       "      <td>Firearms</td>\n",
       "      <td>0.0</td>\n",
       "      <td>0.0</td>\n",
       "    </tr>\n",
       "  </tbody>\n",
       "</table>\n",
       "</div>"
      ],
      "text/plain": [
       "        iyear  imonth  iday  extended   latitude  longitude  multiple  \\\n",
       "169752   2016      12    10         0  41.040413  28.994050         1   \n",
       "169845   2016      12    13         0  38.398583  27.078404         0   \n",
       "169930   2016      12    17         0  38.720489  35.482597         0   \n",
       "169988   2016      12    19         0  39.909138  32.859192         0   \n",
       "170026   2016      12    20         0  39.908201  32.856257         0   \n",
       "\n",
       "        success  suicide  attacktype1    attacktype1_txt  targtype1  \\\n",
       "169752        1        1            3  Bombing/Explosion          1   \n",
       "169845        0        0            2      Armed Assault          1   \n",
       "169930        1        1            3  Bombing/Explosion          4   \n",
       "169988        1        0            1      Assassination          7   \n",
       "170026        0        0            2      Armed Assault          7   \n",
       "\n",
       "                  targtype1_txt  natlty1    natlty1_txt  individual  \\\n",
       "169752                 Business    209.0         Turkey           0   \n",
       "169845                 Business    209.0         Turkey           0   \n",
       "169930                 Military    209.0         Turkey           0   \n",
       "169988  Government (Diplomatic)    167.0         Russia           0   \n",
       "170026  Government (Diplomatic)    217.0  United States           0   \n",
       "\n",
       "        weaptype1              weaptype1_txt  nkill  nwound  \n",
       "169752          6  Explosives/Bombs/Dynamite   24.0    82.0  \n",
       "169845          9                      Melee    0.0     0.0  \n",
       "169930          6  Explosives/Bombs/Dynamite   16.0    53.0  \n",
       "169988          5                   Firearms    2.0     3.0  \n",
       "170026          5                   Firearms    0.0     0.0  "
      ]
     },
     "execution_count": 18,
     "metadata": {},
     "output_type": "execute_result"
    }
   ],
   "source": [
    "df_turkey.tail()"
   ]
  },
  {
   "cell_type": "markdown",
   "id": "020ce239",
   "metadata": {},
   "source": [
    "son 5 veri setine bakıyoruz."
   ]
  },
  {
   "cell_type": "code",
   "execution_count": 19,
   "id": "858cc889",
   "metadata": {
    "scrolled": true
   },
   "outputs": [
    {
     "data": {
      "image/png": "[encoded data removed]",
      "text/plain": [
       "<Figure size 1600x900 with 1 Axes>"
      ]
     },
     "metadata": {},
     "output_type": "display_data"
    }
   ],
   "source": [
    "df_turkey.plot(kind= 'scatter', x='longitude', y='latitude', alpha=0.4, figsize=(16,9))\n",
    "plt.show()"
   ]
  },
  {
   "cell_type": "markdown",
   "id": "d49839b1",
   "metadata": {},
   "source": [
    "plot gösterimi ile terör olaylarının yaşandığı bölgedeki yoğunluk haritasını göstermektedir"
   ]
  },
  {
   "cell_type": "code",
   "execution_count": 20,
   "id": "fdf973c4",
   "metadata": {},
   "outputs": [
    {
     "data": {
      "image/png": "[encoded data removed]",
      "text/plain": [
       "<Figure size 1800x600 with 2 Axes>"
      ]
     },
     "metadata": {},
     "output_type": "display_data"
    }
   ],
   "source": [
    "df_turkey.plot(kind= 'scatter', x='longitude', y='latitude', alpha=1.0,  figsize=(18,6),  \n",
    "               s=df_turkey['nkill']*3, label= 'ölü sayısı', fontsize=1, c='nkill', cmap=plt.get_cmap(\"jet\"), colorbar=True)\n",
    "plt.ylabel(\"Latitude\", fontsize=16)\n",
    "plt.xlabel(\"Longitude\", fontsize=16)\n",
    "plt.show()"
   ]
  },
  {
   "cell_type": "code",
   "execution_count": 22,
   "id": "82eb0f19",
   "metadata": {},
   "outputs": [
    {
     "data": {
      "application/vnd.plotly.v1+json": {
       "config": {
        "linkText": "Export to plot.ly",
        "plotlyServerURL": "https://plot.ly",
        "showLink": false
       },
       "data": [
        {
         "name": "Terör saldırılarının sayısı",
         "type": "bar",
         "x": [
          1970,
          1971,
          1972,
          1973,
          1974,
          1975,
          1976,
          1977,
          1978,
          1979,
          1980,
          1981,
          1982,
          1983,
          1984,
          1985,
          1986,
          1987,
          1988,
          1989,
          1990,
          1991,
          1992,
          1993,
          1994,
          1995,
          1996,
          1997,
          1998,
          1999,
          2000,
          2001,
          2002,
          2003,
          2004,
          2005,
          2006,
          2007,
          2008,
          2009,
          2010,
          2011,
          2012,
          2013,
          2014,
          2015
         ],
         "y": [
          12,
          35,
          9,
          1,
          10,
          35,
          189,
          52,
          141,
          95,
          8,
          5,
          5,
          19,
          2,
          7,
          43,
          42,
          114,
          195,
          293,
          514,
          300,
          133,
          54,
          44,
          23,
          109,
          35,
          19,
          5,
          19,
          27,
          41,
          40,
          29,
          32,
          13,
          20,
          51,
          189,
          42,
          94,
          421,
          540
         ]
        },
        {
         "line": {
          "color": "rgb(205, 12, 24)",
          "width": 5
         },
         "name": "Başarılı terörist saldırıların sayısı",
         "type": "scatter",
         "x": [
          1970,
          1971,
          1972,
          1973,
          1974,
          1975,
          1976,
          1977,
          1978,
          1979,
          1980,
          1981,
          1982,
          1983,
          1984,
          1985,
          1986,
          1987,
          1988,
          1989,
          1990,
          1991,
          1992,
          1993,
          1994,
          1995,
          1996,
          1997,
          1998,
          1999,
          2000,
          2001,
          2002,
          2003,
          2004,
          2005,
          2006,
          2007,
          2008,
          2009,
          2010,
          2011,
          2012,
          2013,
          2014,
          2015
         ],
         "y": [
          9,
          31,
          7,
          0,
          10,
          34,
          180,
          49,
          122,
          90,
          6,
          5,
          4,
          11,
          2,
          7,
          42,
          39,
          111,
          191,
          281,
          479,
          280,
          126,
          52,
          39,
          22,
          98,
          30,
          16,
          4,
          18,
          25,
          39,
          39,
          27,
          30,
          12,
          18,
          47,
          171,
          37,
          84,
          357,
          479
         ]
        }
       ],
       "layout": {
        "barmode": "group",
        "legend": {
         "orientation": "h"
        },
        "template": {
         "data": {
          "bar": [
           {
            "error_x": {
             "color": "#2a3f5f"
            },
            "error_y": {
             "color": "#2a3f5f"
            },
            "marker": {
             "line": {
              "color": "#E5ECF6",
              "width": 0.5
             },
             "pattern": {
              "fillmode": "overlay",
              "size": 10,
              "solidity": 0.2
             }
            },
            "type": "bar"
           }
          ],
          "barpolar": [
           {
            "marker": {
             "line": {
              "color": "#E5ECF6",
              "width": 0.5
             },
             "pattern": {
              "fillmode": "overlay",
              "size": 10,
              "solidity": 0.2
             }
            },
            "type": "barpolar"
           }
          ],
          "carpet": [
           {
            "aaxis": {
             "endlinecolor": "#2a3f5f",
             "gridcolor": "white",
             "linecolor": "white",
             "minorgridcolor": "white",
             "startlinecolor": "#2a3f5f"
            },
            "baxis": {
             "endlinecolor": "#2a3f5f",
             "gridcolor": "white",
             "linecolor": "white",
             "minorgridcolor": "white",
             "startlinecolor": "#2a3f5f"
            },
            "type": "carpet"
           }
          ],
          "choropleth": [
           {
            "colorbar": {
             "outlinewidth": 0,
             "ticks": ""
            },
            "type": "choropleth"
           }
          ],
          "contour": [
           {
            "colorbar": {
             "outlinewidth": 0,
             "ticks": ""
            },
            "colorscale": [
             [
              0,
              "#0d0887"
             ],
             [
              0.1111111111111111,
              "#46039f"
             ],
             [
              0.2222222222222222,
              "#7201a8"
             ],
             [
              0.3333333333333333,
              "#9c179e"
             ],
             [
              0.4444444444444444,
              "#bd3786"
             ],
             [
              0.5555555555555556,
              "#d8576b"
             ],
             [
              0.6666666666666666,
              "#ed7953"
             ],
             [
              0.7777777777777778,
              "#fb9f3a"
             ],
             [
              0.8888888888888888,
              "#fdca26"
             ],
             [
              1,
              "#f0f921"
             ]
            ],
            "type": "contour"
           }
          ],
          "contourcarpet": [
           {
            "colorbar": {
             "outlinewidth": 0,
             "ticks": ""
            },
            "type": "contourcarpet"
           }
          ],
          "heatmap": [
           {
            "colorbar": {
             "outlinewidth": 0,
             "ticks": ""
            },
            "colorscale": [
             [
              0,
              "#0d0887"
             ],
             [
              0.1111111111111111,
              "#46039f"
             ],
             [
              0.2222222222222222,
              "#7201a8"
             ],
             [
              0.3333333333333333,
              "#9c179e"
             ],
             [
              0.4444444444444444,
              "#bd3786"
             ],
             [
              0.5555555555555556,
              "#d8576b"
             ],
             [
              0.6666666666666666,
              "#ed7953"
             ],
             [
              0.7777777777777778,
              "#fb9f3a"
             ],
             [
              0.8888888888888888,
              "#fdca26"
             ],
             [
              1,
              "#f0f921"
             ]
            ],
            "type": "heatmap"
           }
          ],
          "heatmapgl": [
           {
            "colorbar": {
             "outlinewidth": 0,
             "ticks": ""
            },
            "colorscale": [
             [
              0,
              "#0d0887"
             ],
             [
              0.1111111111111111,
              "#46039f"
             ],
             [
              0.2222222222222222,
              "#7201a8"
             ],
             [
              0.3333333333333333,
              "#9c179e"
             ],
             [
              0.4444444444444444,
              "#bd3786"
             ],
             [
              0.5555555555555556,
              "#d8576b"
             ],
             [
              0.6666666666666666,
              "#ed7953"
             ],
             [
              0.7777777777777778,
              "#fb9f3a"
             ],
             [
              0.8888888888888888,
              "#fdca26"
             ],
             [
              1,
              "#f0f921"
             ]
            ],
            "type": "heatmapgl"
           }
          ],
          "histogram": [
           {
            "marker": {
             "pattern": {
              "fillmode": "overlay",
              "size": 10,
              "solidity": 0.2
             }
            },
            "type": "histogram"
           }
          ],
          "histogram2d": [
           {
            "colorbar": {
             "outlinewidth": 0,
             "ticks": ""
            },
            "colorscale": [
             [
              0,
              "#0d0887"
             ],
             [
              0.1111111111111111,
              "#46039f"
             ],
             [
              0.2222222222222222,
              "#7201a8"
             ],
             [
              0.3333333333333333,
              "#9c179e"
             ],
             [
              0.4444444444444444,
              "#bd3786"
             ],
             [
              0.5555555555555556,
              "#d8576b"
             ],
             [
              0.6666666666666666,
              "#ed7953"
             ],
             [
              0.7777777777777778,
              "#fb9f3a"
             ],
             [
              0.8888888888888888,
              "#fdca26"
             ],
             [
              1,
              "#f0f921"
             ]
            ],
            "type": "histogram2d"
           }
          ],
          "histogram2dcontour": [
           {
            "colorbar": {
             "outlinewidth": 0,
             "ticks": ""
            },
            "colorscale": [
             [
              0,
              "#0d0887"
             ],
             [
              0.1111111111111111,
              "#46039f"
             ],
             [
              0.2222222222222222,
              "#7201a8"
             ],
             [
              0.3333333333333333,
              "#9c179e"
             ],
             [
              0.4444444444444444,
              "#bd3786"
             ],
             [
              0.5555555555555556,
              "#d8576b"
             ],
             [
              0.6666666666666666,
              "#ed7953"
             ],
             [
              0.7777777777777778,
              "#fb9f3a"
             ],
             [
              0.8888888888888888,
              "#fdca26"
             ],
             [
              1,
              "#f0f921"
             ]
            ],
            "type": "histogram2dcontour"
           }
          ],
          "mesh3d": [
           {
            "colorbar": {
             "outlinewidth": 0,
             "ticks": ""
            },
            "type": "mesh3d"
           }
          ],
          "parcoords": [
           {
            "line": {
             "colorbar": {
              "outlinewidth": 0,
              "ticks": ""
             }
            },
            "type": "parcoords"
           }
          ],
          "pie": [
           {
            "automargin": true,
            "type": "pie"
           }
          ],
          "scatter": [
           {
            "fillpattern": {
             "fillmode": "overlay",
             "size": 10,
             "solidity": 0.2
            },
            "type": "scatter"
           }
          ],
          "scatter3d": [
           {
            "line": {
             "colorbar": {
              "outlinewidth": 0,
              "ticks": ""
             }
            },
            "marker": {
             "colorbar": {
              "outlinewidth": 0,
              "ticks": ""
             }
            },
            "type": "scatter3d"
           }
          ],
          "scattercarpet": [
           {
            "marker": {
             "colorbar": {
              "outlinewidth": 0,
              "ticks": ""
             }
            },
            "type": "scattercarpet"
           }
          ],
          "scattergeo": [
           {
            "marker": {
             "colorbar": {
              "outlinewidth": 0,
              "ticks": ""
             }
            },
            "type": "scattergeo"
           }
          ],
          "scattergl": [
           {
            "marker": {
             "colorbar": {
              "outlinewidth": 0,
              "ticks": ""
             }
            },
            "type": "scattergl"
           }
          ],
          "scattermapbox": [
           {
            "marker": {
             "colorbar": {
              "outlinewidth": 0,
              "ticks": ""
             }
            },
            "type": "scattermapbox"
           }
          ],
          "scatterpolar": [
           {
            "marker": {
             "colorbar": {
              "outlinewidth": 0,
              "ticks": ""
             }
            },
            "type": "scatterpolar"
           }
          ],
          "scatterpolargl": [
           {
            "marker": {
             "colorbar": {
              "outlinewidth": 0,
              "ticks": ""
             }
            },
            "type": "scatterpolargl"
           }
          ],
          "scatterternary": [
           {
            "marker": {
             "colorbar": {
              "outlinewidth": 0,
              "ticks": ""
             }
            },
            "type": "scatterternary"
           }
          ],
          "surface": [
           {
            "colorbar": {
             "outlinewidth": 0,
             "ticks": ""
            },
            "colorscale": [
             [
              0,
              "#0d0887"
             ],
             [
              0.1111111111111111,
              "#46039f"
             ],
             [
              0.2222222222222222,
              "#7201a8"
             ],
             [
              0.3333333333333333,
              "#9c179e"
             ],
             [
              0.4444444444444444,
              "#bd3786"
             ],
             [
              0.5555555555555556,
              "#d8576b"
             ],
             [
              0.6666666666666666,
              "#ed7953"
             ],
             [
              0.7777777777777778,
              "#fb9f3a"
             ],
             [
              0.8888888888888888,
              "#fdca26"
             ],
             [
              1,
              "#f0f921"
             ]
            ],
            "type": "surface"
           }
          ],
          "table": [
           {
            "cells": {
             "fill": {
              "color": "#EBF0F8"
             },
             "line": {
              "color": "white"
             }
            },
            "header": {
             "fill": {
              "color": "#C8D4E3"
             },
             "line": {
              "color": "white"
             }
            },
            "type": "table"
           }
          ]
         },
         "layout": {
          "annotationdefaults": {
           "arrowcolor": "#2a3f5f",
           "arrowhead": 0,
           "arrowwidth": 1
          },
          "autotypenumbers": "strict",
          "coloraxis": {
           "colorbar": {
            "outlinewidth": 0,
            "ticks": ""
           }
          },
          "colorscale": {
           "diverging": [
            [
             0,
             "#8e0152"
            ],
            [
             0.1,
             "#c51b7d"
            ],
            [
             0.2,
             "#de77ae"
            ],
            [
             0.3,
             "#f1b6da"
            ],
            [
             0.4,
             "#fde0ef"
            ],
            [
             0.5,
             "#f7f7f7"
            ],
            [
             0.6,
             "#e6f5d0"
            ],
            [
             0.7,
             "#b8e186"
            ],
            [
             0.8,
             "#7fbc41"
            ],
            [
             0.9,
             "#4d9221"
            ],
            [
             1,
             "#276419"
            ]
           ],
           "sequential": [
            [
             0,
             "#0d0887"
            ],
            [
             0.1111111111111111,
             "#46039f"
            ],
            [
             0.2222222222222222,
             "#7201a8"
            ],
            [
             0.3333333333333333,
             "#9c179e"
            ],
            [
             0.4444444444444444,
             "#bd3786"
            ],
            [
             0.5555555555555556,
             "#d8576b"
            ],
            [
             0.6666666666666666,
             "#ed7953"
            ],
            [
             0.7777777777777778,
             "#fb9f3a"
            ],
            [
             0.8888888888888888,
             "#fdca26"
            ],
            [
             1,
             "#f0f921"
            ]
           ],
           "sequentialminus": [
            [
             0,
             "#0d0887"
            ],
            [
             0.1111111111111111,
             "#46039f"
            ],
            [
             0.2222222222222222,
             "#7201a8"
            ],
            [
             0.3333333333333333,
             "#9c179e"
            ],
            [
             0.4444444444444444,
             "#bd3786"
            ],
            [
             0.5555555555555556,
             "#d8576b"
            ],
            [
             0.6666666666666666,
             "#ed7953"
            ],
            [
             0.7777777777777778,
             "#fb9f3a"
            ],
            [
             0.8888888888888888,
             "#fdca26"
            ],
            [
             1,
             "#f0f921"
            ]
           ]
          },
          "colorway": [
           "#636efa",
           "#EF553B",
           "#00cc96",
           "#ab63fa",
           "#FFA15A",
           "#19d3f3",
           "#FF6692",
           "#B6E880",
           "#FF97FF",
           "#FECB52"
          ],
          "font": {
           "color": "#2a3f5f"
          },
          "geo": {
           "bgcolor": "white",
           "lakecolor": "white",
           "landcolor": "#E5ECF6",
           "showlakes": true,
           "showland": true,
           "subunitcolor": "white"
          },
          "hoverlabel": {
           "align": "left"
          },
          "hovermode": "closest",
          "mapbox": {
           "style": "light"
          },
          "paper_bgcolor": "white",
          "plot_bgcolor": "#E5ECF6",
          "polar": {
           "angularaxis": {
            "gridcolor": "white",
            "linecolor": "white",
            "ticks": ""
           },
           "bgcolor": "#E5ECF6",
           "radialaxis": {
            "gridcolor": "white",
            "linecolor": "white",
            "ticks": ""
           }
          },
          "scene": {
           "xaxis": {
            "backgroundcolor": "#E5ECF6",
            "gridcolor": "white",
            "gridwidth": 2,
            "linecolor": "white",
            "showbackground": true,
            "ticks": "",
            "zerolinecolor": "white"
           },
           "yaxis": {
            "backgroundcolor": "#E5ECF6",
            "gridcolor": "white",
            "gridwidth": 2,
            "linecolor": "white",
            "showbackground": true,
            "ticks": "",
            "zerolinecolor": "white"
           },
           "zaxis": {
            "backgroundcolor": "#E5ECF6",
            "gridcolor": "white",
            "gridwidth": 2,
            "linecolor": "white",
            "showbackground": true,
            "ticks": "",
            "zerolinecolor": "white"
           }
          },
          "shapedefaults": {
           "line": {
            "color": "#2a3f5f"
           }
          },
          "ternary": {
           "aaxis": {
            "gridcolor": "white",
            "linecolor": "white",
            "ticks": ""
           },
           "baxis": {
            "gridcolor": "white",
            "linecolor": "white",
            "ticks": ""
           },
           "bgcolor": "#E5ECF6",
           "caxis": {
            "gridcolor": "white",
            "linecolor": "white",
            "ticks": ""
           }
          },
          "title": {
           "x": 0.05
          },
          "xaxis": {
           "automargin": true,
           "gridcolor": "white",
           "linecolor": "white",
           "ticks": "",
           "title": {
            "standoff": 15
           },
           "zerolinecolor": "white",
           "zerolinewidth": 2
          },
          "yaxis": {
           "automargin": true,
           "gridcolor": "white",
           "linecolor": "white",
           "ticks": "",
           "title": {
            "standoff": 15
           },
           "zerolinecolor": "white",
           "zerolinewidth": 2
          }
         }
        },
        "title": {
         "text": "Yıllara Göre Türkiyedeki Terör Saldırıları (1970-2016)"
        }
       }
      },
      "text/html": [
       "<div>                            <div id=\"838308cb-75da-4d14-ba55-56da6475238b\" class=\"plotly-graph-div\" style=\"height:525px; width:100%;\"></div>            <script type=\"text/javascript\">                require([\"plotly\"], function(Plotly) {                    window.PLOTLYENV=window.PLOTLYENV || {};                                    if (document.getElementById(\"838308cb-75da-4d14-ba55-56da6475238b\")) {                    Plotly.newPlot(                        \"838308cb-75da-4d14-ba55-56da6475238b\",                        [{\"name\":\"Ter\\u00f6r sald\\u0131r\\u0131lar\\u0131n\\u0131n say\\u0131s\\u0131\",\"x\":[1970,1971,1972,1973,1974,1975,1976,1977,1978,1979,1980,1981,1982,1983,1984,1985,1986,1987,1988,1989,1990,1991,1992,1993,1994,1995,1996,1997,1998,1999,2000,2001,2002,2003,2004,2005,2006,2007,2008,2009,2010,2011,2012,2013,2014,2015],\"y\":[12,35,9,1,10,35,189,52,141,95,8,5,5,19,2,7,43,42,114,195,293,514,300,133,54,44,23,109,35,19,5,19,27,41,40,29,32,13,20,51,189,42,94,421,540],\"type\":\"bar\"},{\"line\":{\"color\":\"rgb(205, 12, 24)\",\"width\":5},\"name\":\"Ba\\u015far\\u0131l\\u0131 ter\\u00f6rist sald\\u0131r\\u0131lar\\u0131n say\\u0131s\\u0131\",\"x\":[1970,1971,1972,1973,1974,1975,1976,1977,1978,1979,1980,1981,1982,1983,1984,1985,1986,1987,1988,1989,1990,1991,1992,1993,1994,1995,1996,1997,1998,1999,2000,2001,2002,2003,2004,2005,2006,2007,2008,2009,2010,2011,2012,2013,2014,2015],\"y\":[9,31,7,0,10,34,180,49,122,90,6,5,4,11,2,7,42,39,111,191,281,479,280,126,52,39,22,98,30,16,4,18,25,39,39,27,30,12,18,47,171,37,84,357,479],\"type\":\"scatter\"}],                        {\"barmode\":\"group\",\"legend\":{\"orientation\":\"h\"},\"template\":{\"data\":{\"barpolar\":[{\"marker\":{\"line\":{\"color\":\"#E5ECF6\",\"width\":0.5},\"pattern\":{\"fillmode\":\"overlay\",\"size\":10,\"solidity\":0.2}},\"type\":\"barpolar\"}],\"bar\":[{\"error_x\":{\"color\":\"#2a3f5f\"},\"error_y\":{\"color\":\"#2a3f5f\"},\"marker\":{\"line\":{\"color\":\"#E5ECF6\",\"width\":0.5},\"pattern\":{\"fillmode\":\"overlay\",\"size\":10,\"solidity\":0.2}},\"type\":\"bar\"}],\"carpet\":[{\"aaxis\":{\"endlinecolor\":\"#2a3f5f\",\"gridcolor\":\"white\",\"linecolor\":\"white\",\"minorgridcolor\":\"white\",\"startlinecolor\":\"#2a3f5f\"},\"baxis\":{\"endlinecolor\":\"#2a3f5f\",\"gridcolor\":\"white\",\"linecolor\":\"white\",\"minorgridcolor\":\"white\",\"startlinecolor\":\"#2a3f5f\"},\"type\":\"carpet\"}],\"choropleth\":[{\"colorbar\":{\"outlinewidth\":0,\"ticks\":\"\"},\"type\":\"choropleth\"}],\"contourcarpet\":[{\"colorbar\":{\"outlinewidth\":0,\"ticks\":\"\"},\"type\":\"contourcarpet\"}],\"contour\":[{\"colorbar\":{\"outlinewidth\":0,\"ticks\":\"\"},\"colorscale\":[[0.0,\"#0d0887\"],[0.1111111111111111,\"#46039f\"],[0.2222222222222222,\"#7201a8\"],[0.3333333333333333,\"#9c179e\"],[0.4444444444444444,\"#bd3786\"],[0.5555555555555556,\"#d8576b\"],[0.6666666666666666,\"#ed7953\"],[0.7777777777777778,\"#fb9f3a\"],[0.8888888888888888,\"#fdca26\"],[1.0,\"#f0f921\"]],\"type\":\"contour\"}],\"heatmapgl\":[{\"colorbar\":{\"outlinewidth\":0,\"ticks\":\"\"},\"colorscale\":[[0.0,\"#0d0887\"],[0.1111111111111111,\"#46039f\"],[0.2222222222222222,\"#7201a8\"],[0.3333333333333333,\"#9c179e\"],[0.4444444444444444,\"#bd3786\"],[0.5555555555555556,\"#d8576b\"],[0.6666666666666666,\"#ed7953\"],[0.7777777777777778,\"#fb9f3a\"],[0.8888888888888888,\"#fdca26\"],[1.0,\"#f0f921\"]],\"type\":\"heatmapgl\"}],\"heatmap\":[{\"colorbar\":{\"outlinewidth\":0,\"ticks\":\"\"},\"colorscale\":[[0.0,\"#0d0887\"],[0.1111111111111111,\"#46039f\"],[0.2222222222222222,\"#7201a8\"],[0.3333333333333333,\"#9c179e\"],[0.4444444444444444,\"#bd3786\"],[0.5555555555555556,\"#d8576b\"],[0.6666666666666666,\"#ed7953\"],[0.7777777777777778,\"#fb9f3a\"],[0.8888888888888888,\"#fdca26\"],[1.0,\"#f0f921\"]],\"type\":\"heatmap\"}],\"histogram2dcontour\":[{\"colorbar\":{\"outlinewidth\":0,\"ticks\":\"\"},\"colorscale\":[[0.0,\"#0d0887\"],[0.1111111111111111,\"#46039f\"],[0.2222222222222222,\"#7201a8\"],[0.3333333333333333,\"#9c179e\"],[0.4444444444444444,\"#bd3786\"],[0.5555555555555556,\"#d8576b\"],[0.6666666666666666,\"#ed7953\"],[0.7777777777777778,\"#fb9f3a\"],[0.8888888888888888,\"#fdca26\"],[1.0,\"#f0f921\"]],\"type\":\"histogram2dcontour\"}],\"histogram2d\":[{\"colorbar\":{\"outlinewidth\":0,\"ticks\":\"\"},\"colorscale\":[[0.0,\"#0d0887\"],[0.1111111111111111,\"#46039f\"],[0.2222222222222222,\"#7201a8\"],[0.3333333333333333,\"#9c179e\"],[0.4444444444444444,\"#bd3786\"],[0.5555555555555556,\"#d8576b\"],[0.6666666666666666,\"#ed7953\"],[0.7777777777777778,\"#fb9f3a\"],[0.8888888888888888,\"#fdca26\"],[1.0,\"#f0f921\"]],\"type\":\"histogram2d\"}],\"histogram\":[{\"marker\":{\"pattern\":{\"fillmode\":\"overlay\",\"size\":10,\"solidity\":0.2}},\"type\":\"histogram\"}],\"mesh3d\":[{\"colorbar\":{\"outlinewidth\":0,\"ticks\":\"\"},\"type\":\"mesh3d\"}],\"parcoords\":[{\"line\":{\"colorbar\":{\"outlinewidth\":0,\"ticks\":\"\"}},\"type\":\"parcoords\"}],\"pie\":[{\"automargin\":true,\"type\":\"pie\"}],\"scatter3d\":[{\"line\":{\"colorbar\":{\"outlinewidth\":0,\"ticks\":\"\"}},\"marker\":{\"colorbar\":{\"outlinewidth\":0,\"ticks\":\"\"}},\"type\":\"scatter3d\"}],\"scattercarpet\":[{\"marker\":{\"colorbar\":{\"outlinewidth\":0,\"ticks\":\"\"}},\"type\":\"scattercarpet\"}],\"scattergeo\":[{\"marker\":{\"colorbar\":{\"outlinewidth\":0,\"ticks\":\"\"}},\"type\":\"scattergeo\"}],\"scattergl\":[{\"marker\":{\"colorbar\":{\"outlinewidth\":0,\"ticks\":\"\"}},\"type\":\"scattergl\"}],\"scattermapbox\":[{\"marker\":{\"colorbar\":{\"outlinewidth\":0,\"ticks\":\"\"}},\"type\":\"scattermapbox\"}],\"scatterpolargl\":[{\"marker\":{\"colorbar\":{\"outlinewidth\":0,\"ticks\":\"\"}},\"type\":\"scatterpolargl\"}],\"scatterpolar\":[{\"marker\":{\"colorbar\":{\"outlinewidth\":0,\"ticks\":\"\"}},\"type\":\"scatterpolar\"}],\"scatter\":[{\"fillpattern\":{\"fillmode\":\"overlay\",\"size\":10,\"solidity\":0.2},\"type\":\"scatter\"}],\"scatterternary\":[{\"marker\":{\"colorbar\":{\"outlinewidth\":0,\"ticks\":\"\"}},\"type\":\"scatterternary\"}],\"surface\":[{\"colorbar\":{\"outlinewidth\":0,\"ticks\":\"\"},\"colorscale\":[[0.0,\"#0d0887\"],[0.1111111111111111,\"#46039f\"],[0.2222222222222222,\"#7201a8\"],[0.3333333333333333,\"#9c179e\"],[0.4444444444444444,\"#bd3786\"],[0.5555555555555556,\"#d8576b\"],[0.6666666666666666,\"#ed7953\"],[0.7777777777777778,\"#fb9f3a\"],[0.8888888888888888,\"#fdca26\"],[1.0,\"#f0f921\"]],\"type\":\"surface\"}],\"table\":[{\"cells\":{\"fill\":{\"color\":\"#EBF0F8\"},\"line\":{\"color\":\"white\"}},\"header\":{\"fill\":{\"color\":\"#C8D4E3\"},\"line\":{\"color\":\"white\"}},\"type\":\"table\"}]},\"layout\":{\"annotationdefaults\":{\"arrowcolor\":\"#2a3f5f\",\"arrowhead\":0,\"arrowwidth\":1},\"autotypenumbers\":\"strict\",\"coloraxis\":{\"colorbar\":{\"outlinewidth\":0,\"ticks\":\"\"}},\"colorscale\":{\"diverging\":[[0,\"#8e0152\"],[0.1,\"#c51b7d\"],[0.2,\"#de77ae\"],[0.3,\"#f1b6da\"],[0.4,\"#fde0ef\"],[0.5,\"#f7f7f7\"],[0.6,\"#e6f5d0\"],[0.7,\"#b8e186\"],[0.8,\"#7fbc41\"],[0.9,\"#4d9221\"],[1,\"#276419\"]],\"sequential\":[[0.0,\"#0d0887\"],[0.1111111111111111,\"#46039f\"],[0.2222222222222222,\"#7201a8\"],[0.3333333333333333,\"#9c179e\"],[0.4444444444444444,\"#bd3786\"],[0.5555555555555556,\"#d8576b\"],[0.6666666666666666,\"#ed7953\"],[0.7777777777777778,\"#fb9f3a\"],[0.8888888888888888,\"#fdca26\"],[1.0,\"#f0f921\"]],\"sequentialminus\":[[0.0,\"#0d0887\"],[0.1111111111111111,\"#46039f\"],[0.2222222222222222,\"#7201a8\"],[0.3333333333333333,\"#9c179e\"],[0.4444444444444444,\"#bd3786\"],[0.5555555555555556,\"#d8576b\"],[0.6666666666666666,\"#ed7953\"],[0.7777777777777778,\"#fb9f3a\"],[0.8888888888888888,\"#fdca26\"],[1.0,\"#f0f921\"]]},\"colorway\":[\"#636efa\",\"#EF553B\",\"#00cc96\",\"#ab63fa\",\"#FFA15A\",\"#19d3f3\",\"#FF6692\",\"#B6E880\",\"#FF97FF\",\"#FECB52\"],\"font\":{\"color\":\"#2a3f5f\"},\"geo\":{\"bgcolor\":\"white\",\"lakecolor\":\"white\",\"landcolor\":\"#E5ECF6\",\"showlakes\":true,\"showland\":true,\"subunitcolor\":\"white\"},\"hoverlabel\":{\"align\":\"left\"},\"hovermode\":\"closest\",\"mapbox\":{\"style\":\"light\"},\"paper_bgcolor\":\"white\",\"plot_bgcolor\":\"#E5ECF6\",\"polar\":{\"angularaxis\":{\"gridcolor\":\"white\",\"linecolor\":\"white\",\"ticks\":\"\"},\"bgcolor\":\"#E5ECF6\",\"radialaxis\":{\"gridcolor\":\"white\",\"linecolor\":\"white\",\"ticks\":\"\"}},\"scene\":{\"xaxis\":{\"backgroundcolor\":\"#E5ECF6\",\"gridcolor\":\"white\",\"gridwidth\":2,\"linecolor\":\"white\",\"showbackground\":true,\"ticks\":\"\",\"zerolinecolor\":\"white\"},\"yaxis\":{\"backgroundcolor\":\"#E5ECF6\",\"gridcolor\":\"white\",\"gridwidth\":2,\"linecolor\":\"white\",\"showbackground\":true,\"ticks\":\"\",\"zerolinecolor\":\"white\"},\"zaxis\":{\"backgroundcolor\":\"#E5ECF6\",\"gridcolor\":\"white\",\"gridwidth\":2,\"linecolor\":\"white\",\"showbackground\":true,\"ticks\":\"\",\"zerolinecolor\":\"white\"}},\"shapedefaults\":{\"line\":{\"color\":\"#2a3f5f\"}},\"ternary\":{\"aaxis\":{\"gridcolor\":\"white\",\"linecolor\":\"white\",\"ticks\":\"\"},\"baxis\":{\"gridcolor\":\"white\",\"linecolor\":\"white\",\"ticks\":\"\"},\"bgcolor\":\"#E5ECF6\",\"caxis\":{\"gridcolor\":\"white\",\"linecolor\":\"white\",\"ticks\":\"\"}},\"title\":{\"x\":0.05},\"xaxis\":{\"automargin\":true,\"gridcolor\":\"white\",\"linecolor\":\"white\",\"ticks\":\"\",\"title\":{\"standoff\":15},\"zerolinecolor\":\"white\",\"zerolinewidth\":2},\"yaxis\":{\"automargin\":true,\"gridcolor\":\"white\",\"linecolor\":\"white\",\"ticks\":\"\",\"title\":{\"standoff\":15},\"zerolinecolor\":\"white\",\"zerolinewidth\":2}}},\"title\":{\"text\":\"Y\\u0131llara G\\u00f6re T\\u00fcrkiyedeki Ter\\u00f6r Sald\\u0131r\\u0131lar\\u0131 (1970-2016)\"}},                        {\"responsive\": true}                    ).then(function(){\n",
       "                            \n",
       "var gd = document.getElementById('838308cb-75da-4d14-ba55-56da6475238b');\n",
       "var x = new MutationObserver(function (mutations, observer) {{\n",
       "        var display = window.getComputedStyle(gd).display;\n",
       "        if (!display || display === 'none') {{\n",
       "            console.log([gd, 'removed!']);\n",
       "            Plotly.purge(gd);\n",
       "            observer.disconnect();\n",
       "        }}\n",
       "}});\n",
       "\n",
       "// Listen for the removal of the full notebook cells\n",
       "var notebookContainer = gd.closest('#notebook-container');\n",
       "if (notebookContainer) {{\n",
       "    x.observe(notebookContainer, {childList: true});\n",
       "}}\n",
       "\n",
       "// Listen for the clearing of the current output cell\n",
       "var outputEl = gd.closest('.output');\n",
       "if (outputEl) {{\n",
       "    x.observe(outputEl, {childList: true});\n",
       "}}\n",
       "\n",
       "                        })                };                });            </script>        </div>"
      ]
     },
     "metadata": {},
     "output_type": "display_data"
    }
   ],
   "source": [
    "terror = np.asarray(df_turkey.groupby('iyear').iyear.count())\n",
    "successes = np.asarray(df_turkey.groupby('iyear').success.sum())\n",
    "\n",
    "terror_years = np.arange(1970, 2016)\n",
    "\n",
    "trace1 = go.Bar(x = terror_years, y = terror, name = 'Terör saldırılarının sayısı')\n",
    "\n",
    "trace2 = go.Scatter(x = terror_years, y = successes, name = 'Başarılı terörist saldırıların sayısı', line = dict(color = ('rgb(205, 12, 24)'),width=5))\n",
    "\n",
    "layout = go.Layout(title = 'Yıllara Göre Türkiyedeki Terör Saldırıları (1970-2016)', legend=dict(orientation=\"h\"),\n",
    "         barmode = 'group')\n",
    "\n",
    "figure = dict(data = [trace1,trace2], layout = layout)\n",
    "iplot(figure)\n"
   ]
  },
  {
   "cell_type": "markdown",
   "id": "7eec8e94",
   "metadata": {},
   "source": [
    "bu harita gösterimide yine enlem ve boylam baz alarak ölü sayısına bağlı farklı renklerde gösteren yoğunluk haritası "
   ]
  },
  {
   "cell_type": "code",
   "execution_count": 30,
   "id": "7ddfefa8",
   "metadata": {},
   "outputs": [
    {
     "name": "stdout",
     "output_type": "stream",
     "text": [
      "<class 'pandas.core.frame.DataFrame'>\n",
      "Index: 4106 entries, 226 to 170026\n",
      "Data columns (total 20 columns):\n",
      " #   Column           Non-Null Count  Dtype  \n",
      "---  ------           --------------  -----  \n",
      " 0   iyear            4106 non-null   int64  \n",
      " 1   imonth           4106 non-null   int64  \n",
      " 2   iday             4106 non-null   int64  \n",
      " 3   extended         4106 non-null   int64  \n",
      " 4   latitude         3942 non-null   float64\n",
      " 5   longitude        3942 non-null   float64\n",
      " 6   multiple         4106 non-null   int64  \n",
      " 7   success          4106 non-null   int64  \n",
      " 8   suicide          4106 non-null   int64  \n",
      " 9   attacktype1      4106 non-null   int64  \n",
      " 10  attacktype1_txt  4106 non-null   object \n",
      " 11  targtype1        4106 non-null   int64  \n",
      " 12  targtype1_txt    4106 non-null   object \n",
      " 13  natlty1          4085 non-null   float64\n",
      " 14  natlty1_txt      4085 non-null   object \n",
      " 15  individual       4106 non-null   int64  \n",
      " 16  weaptype1        4106 non-null   int64  \n",
      " 17  weaptype1_txt    4106 non-null   object \n",
      " 18  nkill            3974 non-null   float64\n",
      " 19  nwound           3948 non-null   float64\n",
      "dtypes: float64(5), int64(11), object(4)\n",
      "memory usage: 673.6+ KB\n"
     ]
    }
   ],
   "source": [
    "df_turkey.info()"
   ]
  },
  {
   "cell_type": "code",
   "execution_count": 31,
   "id": "b424bbea",
   "metadata": {},
   "outputs": [
    {
     "data": {
      "text/html": [
       "<div>\n",
       "<style scoped>\n",
       "    .dataframe tbody tr th:only-of-type {\n",
       "        vertical-align: middle;\n",
       "    }\n",
       "\n",
       "    .dataframe tbody tr th {\n",
       "        vertical-align: top;\n",
       "    }\n",
       "\n",
       "    .dataframe thead th {\n",
       "        text-align: right;\n",
       "    }\n",
       "</style>\n",
       "<table border=\"1\" class=\"dataframe\">\n",
       "  <thead>\n",
       "    <tr style=\"text-align: right;\">\n",
       "      <th></th>\n",
       "      <th>iyear</th>\n",
       "      <th>imonth</th>\n",
       "      <th>iday</th>\n",
       "      <th>extended</th>\n",
       "      <th>latitude</th>\n",
       "      <th>longitude</th>\n",
       "      <th>multiple</th>\n",
       "      <th>success</th>\n",
       "      <th>suicide</th>\n",
       "      <th>attacktype1</th>\n",
       "      <th>targtype1</th>\n",
       "      <th>natlty1</th>\n",
       "      <th>individual</th>\n",
       "      <th>weaptype1</th>\n",
       "      <th>nkill</th>\n",
       "      <th>nwound</th>\n",
       "    </tr>\n",
       "  </thead>\n",
       "  <tbody>\n",
       "    <tr>\n",
       "      <th>count</th>\n",
       "      <td>4106.000000</td>\n",
       "      <td>4106.000000</td>\n",
       "      <td>4106.000000</td>\n",
       "      <td>4106.000000</td>\n",
       "      <td>3942.000000</td>\n",
       "      <td>3942.000000</td>\n",
       "      <td>4106.000000</td>\n",
       "      <td>4106.000000</td>\n",
       "      <td>4106.000000</td>\n",
       "      <td>4106.000000</td>\n",
       "      <td>4106.000000</td>\n",
       "      <td>4085.000000</td>\n",
       "      <td>4106.000000</td>\n",
       "      <td>4106.000000</td>\n",
       "      <td>3974.000000</td>\n",
       "      <td>3948.000000</td>\n",
       "    </tr>\n",
       "    <tr>\n",
       "      <th>mean</th>\n",
       "      <td>1998.349489</td>\n",
       "      <td>6.496590</td>\n",
       "      <td>16.048466</td>\n",
       "      <td>0.024598</td>\n",
       "      <td>38.988434</td>\n",
       "      <td>36.297783</td>\n",
       "      <td>0.113249</td>\n",
       "      <td>0.915733</td>\n",
       "      <td>0.016561</td>\n",
       "      <td>3.071359</td>\n",
       "      <td>6.755967</td>\n",
       "      <td>208.355202</td>\n",
       "      <td>0.000731</td>\n",
       "      <td>6.285679</td>\n",
       "      <td>1.676900</td>\n",
       "      <td>2.424519</td>\n",
       "    </tr>\n",
       "    <tr>\n",
       "      <th>std</th>\n",
       "      <td>13.257384</td>\n",
       "      <td>3.115732</td>\n",
       "      <td>8.779937</td>\n",
       "      <td>0.154916</td>\n",
       "      <td>1.558787</td>\n",
       "      <td>5.907184</td>\n",
       "      <td>0.316935</td>\n",
       "      <td>0.277822</td>\n",
       "      <td>0.127636</td>\n",
       "      <td>1.815490</td>\n",
       "      <td>6.113811</td>\n",
       "      <td>36.949543</td>\n",
       "      <td>0.027024</td>\n",
       "      <td>2.031656</td>\n",
       "      <td>4.460954</td>\n",
       "      <td>11.540222</td>\n",
       "    </tr>\n",
       "    <tr>\n",
       "      <th>min</th>\n",
       "      <td>1970.000000</td>\n",
       "      <td>0.000000</td>\n",
       "      <td>0.000000</td>\n",
       "      <td>0.000000</td>\n",
       "      <td>35.819484</td>\n",
       "      <td>26.303357</td>\n",
       "      <td>0.000000</td>\n",
       "      <td>0.000000</td>\n",
       "      <td>0.000000</td>\n",
       "      <td>1.000000</td>\n",
       "      <td>1.000000</td>\n",
       "      <td>6.000000</td>\n",
       "      <td>0.000000</td>\n",
       "      <td>2.000000</td>\n",
       "      <td>0.000000</td>\n",
       "      <td>0.000000</td>\n",
       "    </tr>\n",
       "    <tr>\n",
       "      <th>25%</th>\n",
       "      <td>1991.000000</td>\n",
       "      <td>4.000000</td>\n",
       "      <td>9.000000</td>\n",
       "      <td>0.000000</td>\n",
       "      <td>37.518974</td>\n",
       "      <td>28.960465</td>\n",
       "      <td>0.000000</td>\n",
       "      <td>1.000000</td>\n",
       "      <td>0.000000</td>\n",
       "      <td>2.000000</td>\n",
       "      <td>2.000000</td>\n",
       "      <td>209.000000</td>\n",
       "      <td>0.000000</td>\n",
       "      <td>5.000000</td>\n",
       "      <td>0.000000</td>\n",
       "      <td>0.000000</td>\n",
       "    </tr>\n",
       "    <tr>\n",
       "      <th>50%</th>\n",
       "      <td>1994.000000</td>\n",
       "      <td>7.000000</td>\n",
       "      <td>16.000000</td>\n",
       "      <td>0.000000</td>\n",
       "      <td>38.504136</td>\n",
       "      <td>38.276758</td>\n",
       "      <td>0.000000</td>\n",
       "      <td>1.000000</td>\n",
       "      <td>0.000000</td>\n",
       "      <td>3.000000</td>\n",
       "      <td>4.000000</td>\n",
       "      <td>209.000000</td>\n",
       "      <td>0.000000</td>\n",
       "      <td>6.000000</td>\n",
       "      <td>0.000000</td>\n",
       "      <td>0.000000</td>\n",
       "    </tr>\n",
       "    <tr>\n",
       "      <th>75%</th>\n",
       "      <td>2014.000000</td>\n",
       "      <td>9.000000</td>\n",
       "      <td>24.000000</td>\n",
       "      <td>0.000000</td>\n",
       "      <td>41.008342</td>\n",
       "      <td>41.491430</td>\n",
       "      <td>0.000000</td>\n",
       "      <td>1.000000</td>\n",
       "      <td>0.000000</td>\n",
       "      <td>3.000000</td>\n",
       "      <td>14.000000</td>\n",
       "      <td>209.000000</td>\n",
       "      <td>0.000000</td>\n",
       "      <td>6.000000</td>\n",
       "      <td>2.000000</td>\n",
       "      <td>1.000000</td>\n",
       "    </tr>\n",
       "    <tr>\n",
       "      <th>max</th>\n",
       "      <td>2016.000000</td>\n",
       "      <td>12.000000</td>\n",
       "      <td>31.000000</td>\n",
       "      <td>1.000000</td>\n",
       "      <td>41.954099</td>\n",
       "      <td>44.799770</td>\n",
       "      <td>1.000000</td>\n",
       "      <td>1.000000</td>\n",
       "      <td>1.000000</td>\n",
       "      <td>9.000000</td>\n",
       "      <td>22.000000</td>\n",
       "      <td>999.000000</td>\n",
       "      <td>1.000000</td>\n",
       "      <td>13.000000</td>\n",
       "      <td>105.000000</td>\n",
       "      <td>245.000000</td>\n",
       "    </tr>\n",
       "  </tbody>\n",
       "</table>\n",
       "</div>"
      ],
      "text/plain": [
       "             iyear       imonth         iday     extended     latitude  \\\n",
       "count  4106.000000  4106.000000  4106.000000  4106.000000  3942.000000   \n",
       "mean   1998.349489     6.496590    16.048466     0.024598    38.988434   \n",
       "std      13.257384     3.115732     8.779937     0.154916     1.558787   \n",
       "min    1970.000000     0.000000     0.000000     0.000000    35.819484   \n",
       "25%    1991.000000     4.000000     9.000000     0.000000    37.518974   \n",
       "50%    1994.000000     7.000000    16.000000     0.000000    38.504136   \n",
       "75%    2014.000000     9.000000    24.000000     0.000000    41.008342   \n",
       "max    2016.000000    12.000000    31.000000     1.000000    41.954099   \n",
       "\n",
       "         longitude     multiple      success      suicide  attacktype1  \\\n",
       "count  3942.000000  4106.000000  4106.000000  4106.000000  4106.000000   \n",
       "mean     36.297783     0.113249     0.915733     0.016561     3.071359   \n",
       "std       5.907184     0.316935     0.277822     0.127636     1.815490   \n",
       "min      26.303357     0.000000     0.000000     0.000000     1.000000   \n",
       "25%      28.960465     0.000000     1.000000     0.000000     2.000000   \n",
       "50%      38.276758     0.000000     1.000000     0.000000     3.000000   \n",
       "75%      41.491430     0.000000     1.000000     0.000000     3.000000   \n",
       "max      44.799770     1.000000     1.000000     1.000000     9.000000   \n",
       "\n",
       "         targtype1      natlty1   individual    weaptype1        nkill  \\\n",
       "count  4106.000000  4085.000000  4106.000000  4106.000000  3974.000000   \n",
       "mean      6.755967   208.355202     0.000731     6.285679     1.676900   \n",
       "std       6.113811    36.949543     0.027024     2.031656     4.460954   \n",
       "min       1.000000     6.000000     0.000000     2.000000     0.000000   \n",
       "25%       2.000000   209.000000     0.000000     5.000000     0.000000   \n",
       "50%       4.000000   209.000000     0.000000     6.000000     0.000000   \n",
       "75%      14.000000   209.000000     0.000000     6.000000     2.000000   \n",
       "max      22.000000   999.000000     1.000000    13.000000   105.000000   \n",
       "\n",
       "            nwound  \n",
       "count  3948.000000  \n",
       "mean      2.424519  \n",
       "std      11.540222  \n",
       "min       0.000000  \n",
       "25%       0.000000  \n",
       "50%       0.000000  \n",
       "75%       1.000000  \n",
       "max     245.000000  "
      ]
     },
     "execution_count": 31,
     "metadata": {},
     "output_type": "execute_result"
    }
   ],
   "source": [
    "df_turkey.describe()"
   ]
  },
  {
   "cell_type": "code",
   "execution_count": 32,
   "id": "78c80599",
   "metadata": {},
   "outputs": [
    {
     "name": "stdout",
     "output_type": "stream",
     "text": [
      "<class 'pandas.core.frame.DataFrame'>\n",
      "Index: 4106 entries, 226 to 170026\n",
      "Data columns (total 20 columns):\n",
      " #   Column           Non-Null Count  Dtype  \n",
      "---  ------           --------------  -----  \n",
      " 0   iyear            4106 non-null   int64  \n",
      " 1   imonth           4106 non-null   int64  \n",
      " 2   iday             4106 non-null   int64  \n",
      " 3   extended         4106 non-null   int64  \n",
      " 4   latitude         4106 non-null   float64\n",
      " 5   longitude        4106 non-null   float64\n",
      " 6   multiple         4106 non-null   int64  \n",
      " 7   success          4106 non-null   int64  \n",
      " 8   suicide          4106 non-null   int64  \n",
      " 9   attacktype1      4106 non-null   int64  \n",
      " 10  attacktype1_txt  4106 non-null   object \n",
      " 11  targtype1        4106 non-null   int64  \n",
      " 12  targtype1_txt    4106 non-null   object \n",
      " 13  natlty1          4106 non-null   float64\n",
      " 14  natlty1_txt      4106 non-null   object \n",
      " 15  individual       4106 non-null   int64  \n",
      " 16  weaptype1        4106 non-null   int64  \n",
      " 17  weaptype1_txt    4106 non-null   object \n",
      " 18  nkill            4106 non-null   float64\n",
      " 19  nwound           4106 non-null   float64\n",
      "dtypes: float64(5), int64(11), object(4)\n",
      "memory usage: 673.6+ KB\n"
     ]
    }
   ],
   "source": [
    "df_turkey['nkill'].fillna(1.676900, inplace=True)\n",
    "df_turkey['nwound'].fillna(2.424519, inplace=True)\n",
    "df_turkey['latitude'].fillna(38.988434, inplace=True)\n",
    "df_turkey['longitude'].fillna(36.297783, inplace=True)\n",
    "df_turkey[\"natlty1\"].fillna(209, inplace=True)\n",
    "df_turkey[\"natlty1_txt\"].fillna(\"Turkey\", inplace=True)\n",
    "df_turkey.info()"
   ]
  },
  {
   "cell_type": "markdown",
   "id": "dc58100e",
   "metadata": {},
   "source": [
    "# eğitim ve test ayrımı  \n",
    "Verilerimizi bir eğitim setine (%80) ve test setine (%20) olarak ayırıyoruz . Tahmin etmeye çalıştığım değişken 'nkill' yani ölü sayısı bu değişkene bağlı olarak yorumlarda bulunacağız.\n",
    "\n",
    "\n",
    "bundan önce txt içeren metinsel ifadeleri çıkarmam gerekiyor doğru bir çıkarımda bulunabilmek için bu işlemi gerçekleştiriyoruz.\n"
   ]
  },
  {
   "cell_type": "markdown",
   "id": "04d566bf",
   "metadata": {},
   "source": [
    "bağımsız değişkenler ile sutünleri belirleyip sonrasında y_nkill ilede hedef değişkeni seçiyoruz y_nkill\n",
    "sonrasında eğitim (%80) ve test verisi(%20) olarak ikiye ayırıyoruz "
   ]
  },
  {
   "cell_type": "code",
   "execution_count": 106,
   "id": "0e77a51e",
   "metadata": {},
   "outputs": [],
   "source": [
    "columns = ['imonth', 'iday', 'extended', 'latitude', 'longitude', 'multiple','success', 'suicide', 'attacktype1', 'targtype1', 'natlty1','individual', 'weaptype1']\n",
    "X_nkill = df_turkey[coumns]\n",
    "y_nkill = df_turkey[\"nkill\"]\n",
    "X_nkill_train, X_nkill_val, y_nkill_train, y_nkill_val = train_test_split(X_nkill, y_nkill, test_size=0.20, random_state=42)"
   ]
  },
  {
   "cell_type": "code",
   "execution_count": 131,
   "id": "05b1b622",
   "metadata": {},
   "outputs": [
    {
     "name": "stdout",
     "output_type": "stream",
     "text": [
      "Maalesef, bu saldırı 43 kişinin yaşamına son verecek\n"
     ]
    },
    {
     "name": "stderr",
     "output_type": "stream",
     "text": [
      "/Users/omerfaruksezer/anaconda3/lib/python3.11/site-packages/sklearn/base.py:464: UserWarning:\n",
      "\n",
      "X does not have valid feature names, but RandomForestRegressor was fitted with feature names\n",
      "\n"
     ]
    }
   ],
   "source": [
    "nkill_model = rfr(random_state = 42, n_estimators = 10)\n",
    "nkill_model.fit(X_nkill,y_nkill)\n",
    "\n",
    "month = 10\n",
    "day = 3\n",
    "extended = 0\n",
    "latitude = 37.3076 \n",
    "longitude = 44.5724\n",
    "multiple = 1\n",
    "success = 1\n",
    "suicide = 1\n",
    "attackType = 8\n",
    "targetType = 11\n",
    "natlty1 = 209\n",
    "individual = 1\n",
    "weaponType = 12\n",
    "\n",
    "kill_count = nkill_model.predict([[month,day,extended,latitude,longitude,multiple,success,suicide,\n",
    "                                   attackType,targetType,individual,weaponType, natlty1]])\n",
    "print(\"Maalesef, bu saldırı \"+str(int(kill_count[0]))+\" kişinin yaşamına son verecek\")\n"
   ]
  },
  {
   "cell_type": "code",
   "execution_count": 24,
   "id": "f6b5550e",
   "metadata": {},
   "outputs": [
    {
     "data": {
      "text/plain": [
       "attacktype1_txt\n",
       "Armed Assault                          1220\n",
       "Assassination                           429\n",
       "Bombing/Explosion                      1775\n",
       "Facility/Infrastructure Attack          271\n",
       "Hijacking                                13\n",
       "Hostage Taking (Barricade Incident)      13\n",
       "Hostage Taking (Kidnapping)             122\n",
       "Unarmed Assault                          10\n",
       "Unknown                                 121\n",
       "Name: nkill, dtype: int64"
      ]
     },
     "execution_count": 24,
     "metadata": {},
     "output_type": "execute_result"
    }
   ],
   "source": [
    "df_turkey.groupby(by= 'attacktype1_txt').count()['nkill']"
   ]
  },
  {
   "cell_type": "code",
   "execution_count": 25,
   "id": "2731673c",
   "metadata": {},
   "outputs": [
    {
     "data": {
      "text/plain": [
       "iyear\n",
       "1970       1.0\n",
       "1971       0.0\n",
       "1972       5.0\n",
       "1974       1.0\n",
       "1975       0.0\n",
       "1976      23.0\n",
       "1977      89.0\n",
       "1978     111.0\n",
       "1979     118.0\n",
       "1980      61.0\n",
       "1981      11.0\n",
       "1982      71.0\n",
       "1983      24.0\n",
       "1984      19.0\n",
       "1985       0.0\n",
       "1986       7.0\n",
       "1987      80.0\n",
       "1988      21.0\n",
       "1989      53.0\n",
       "1990     219.0\n",
       "1991     300.0\n",
       "1992     537.0\n",
       "1994     452.0\n",
       "1995     216.0\n",
       "1996      92.0\n",
       "1997     108.0\n",
       "1998     108.0\n",
       "1999     271.0\n",
       "2000      27.0\n",
       "2001      40.0\n",
       "2002       0.0\n",
       "2003     778.0\n",
       "2004      92.0\n",
       "2005     140.0\n",
       "2006     316.0\n",
       "2007     122.0\n",
       "2008     274.0\n",
       "2009      48.0\n",
       "2010       7.0\n",
       "2011     110.0\n",
       "2012     464.0\n",
       "2013     192.0\n",
       "2014      89.0\n",
       "2015    1103.0\n",
       "2016    2772.0\n",
       "Name: nwound, dtype: float64"
      ]
     },
     "execution_count": 25,
     "metadata": {},
     "output_type": "execute_result"
    }
   ],
   "source": [
    "df_turkey.groupby(by= 'iyear').sum()['nwound']"
   ]
  },
  {
   "cell_type": "code",
   "execution_count": 28,
   "id": "627fcfa0",
   "metadata": {},
   "outputs": [
    {
     "data": {
      "text/html": [
       "<div>\n",
       "<style scoped>\n",
       "    .dataframe tbody tr th:only-of-type {\n",
       "        vertical-align: middle;\n",
       "    }\n",
       "\n",
       "    .dataframe tbody tr th {\n",
       "        vertical-align: top;\n",
       "    }\n",
       "\n",
       "    .dataframe thead th {\n",
       "        text-align: right;\n",
       "    }\n",
       "</style>\n",
       "<table border=\"1\" class=\"dataframe\">\n",
       "  <thead>\n",
       "    <tr style=\"text-align: right;\">\n",
       "      <th>nkill</th>\n",
       "      <th>0.0</th>\n",
       "      <th>1.0</th>\n",
       "      <th>2.0</th>\n",
       "      <th>3.0</th>\n",
       "      <th>4.0</th>\n",
       "      <th>5.0</th>\n",
       "      <th>6.0</th>\n",
       "      <th>7.0</th>\n",
       "      <th>8.0</th>\n",
       "      <th>9.0</th>\n",
       "      <th>...</th>\n",
       "      <th>37.0</th>\n",
       "      <th>39.0</th>\n",
       "      <th>43.0</th>\n",
       "      <th>48.0</th>\n",
       "      <th>52.0</th>\n",
       "      <th>55.0</th>\n",
       "      <th>58.0</th>\n",
       "      <th>59.0</th>\n",
       "      <th>77.0</th>\n",
       "      <th>105.0</th>\n",
       "    </tr>\n",
       "    <tr>\n",
       "      <th>imonth</th>\n",
       "      <th></th>\n",
       "      <th></th>\n",
       "      <th></th>\n",
       "      <th></th>\n",
       "      <th></th>\n",
       "      <th></th>\n",
       "      <th></th>\n",
       "      <th></th>\n",
       "      <th></th>\n",
       "      <th></th>\n",
       "      <th></th>\n",
       "      <th></th>\n",
       "      <th></th>\n",
       "      <th></th>\n",
       "      <th></th>\n",
       "      <th></th>\n",
       "      <th></th>\n",
       "      <th></th>\n",
       "      <th></th>\n",
       "      <th></th>\n",
       "      <th></th>\n",
       "    </tr>\n",
       "  </thead>\n",
       "  <tbody>\n",
       "    <tr>\n",
       "      <th>1</th>\n",
       "      <td>295610.0</td>\n",
       "      <td>105937.0</td>\n",
       "      <td>25975.0</td>\n",
       "      <td>20023.0</td>\n",
       "      <td>4002.0</td>\n",
       "      <td>5982.0</td>\n",
       "      <td>8005.0</td>\n",
       "      <td>NaN</td>\n",
       "      <td>5976.0</td>\n",
       "      <td>NaN</td>\n",
       "      <td>...</td>\n",
       "      <td>NaN</td>\n",
       "      <td>NaN</td>\n",
       "      <td>NaN</td>\n",
       "      <td>NaN</td>\n",
       "      <td>NaN</td>\n",
       "      <td>NaN</td>\n",
       "      <td>NaN</td>\n",
       "      <td>NaN</td>\n",
       "      <td>NaN</td>\n",
       "      <td>NaN</td>\n",
       "    </tr>\n",
       "    <tr>\n",
       "      <th>2</th>\n",
       "      <td>298896.0</td>\n",
       "      <td>89705.0</td>\n",
       "      <td>21969.0</td>\n",
       "      <td>9996.0</td>\n",
       "      <td>11952.0</td>\n",
       "      <td>7990.0</td>\n",
       "      <td>4010.0</td>\n",
       "      <td>1992.0</td>\n",
       "      <td>NaN</td>\n",
       "      <td>NaN</td>\n",
       "      <td>...</td>\n",
       "      <td>NaN</td>\n",
       "      <td>NaN</td>\n",
       "      <td>NaN</td>\n",
       "      <td>NaN</td>\n",
       "      <td>NaN</td>\n",
       "      <td>NaN</td>\n",
       "      <td>NaN</td>\n",
       "      <td>NaN</td>\n",
       "      <td>NaN</td>\n",
       "      <td>NaN</td>\n",
       "    </tr>\n",
       "    <tr>\n",
       "      <th>3</th>\n",
       "      <td>500508.0</td>\n",
       "      <td>139612.0</td>\n",
       "      <td>55930.0</td>\n",
       "      <td>31963.0</td>\n",
       "      <td>15942.0</td>\n",
       "      <td>2016.0</td>\n",
       "      <td>7965.0</td>\n",
       "      <td>2016.0</td>\n",
       "      <td>4003.0</td>\n",
       "      <td>5972.0</td>\n",
       "      <td>...</td>\n",
       "      <td>NaN</td>\n",
       "      <td>2016.0</td>\n",
       "      <td>NaN</td>\n",
       "      <td>NaN</td>\n",
       "      <td>NaN</td>\n",
       "      <td>NaN</td>\n",
       "      <td>NaN</td>\n",
       "      <td>NaN</td>\n",
       "      <td>1994.0</td>\n",
       "      <td>NaN</td>\n",
       "    </tr>\n",
       "    <tr>\n",
       "      <th>4</th>\n",
       "      <td>363659.0</td>\n",
       "      <td>118046.0</td>\n",
       "      <td>51960.0</td>\n",
       "      <td>29968.0</td>\n",
       "      <td>27933.0</td>\n",
       "      <td>13969.0</td>\n",
       "      <td>13974.0</td>\n",
       "      <td>11951.0</td>\n",
       "      <td>1994.0</td>\n",
       "      <td>2009.0</td>\n",
       "      <td>...</td>\n",
       "      <td>NaN</td>\n",
       "      <td>NaN</td>\n",
       "      <td>1994.0</td>\n",
       "      <td>NaN</td>\n",
       "      <td>NaN</td>\n",
       "      <td>NaN</td>\n",
       "      <td>NaN</td>\n",
       "      <td>1994.0</td>\n",
       "      <td>NaN</td>\n",
       "      <td>NaN</td>\n",
       "    </tr>\n",
       "    <tr>\n",
       "      <th>5</th>\n",
       "      <td>321995.0</td>\n",
       "      <td>113998.0</td>\n",
       "      <td>67806.0</td>\n",
       "      <td>35976.0</td>\n",
       "      <td>15988.0</td>\n",
       "      <td>25994.0</td>\n",
       "      <td>12014.0</td>\n",
       "      <td>11983.0</td>\n",
       "      <td>11968.0</td>\n",
       "      <td>1994.0</td>\n",
       "      <td>...</td>\n",
       "      <td>NaN</td>\n",
       "      <td>NaN</td>\n",
       "      <td>NaN</td>\n",
       "      <td>NaN</td>\n",
       "      <td>NaN</td>\n",
       "      <td>NaN</td>\n",
       "      <td>NaN</td>\n",
       "      <td>NaN</td>\n",
       "      <td>NaN</td>\n",
       "      <td>NaN</td>\n",
       "    </tr>\n",
       "    <tr>\n",
       "      <th>6</th>\n",
       "      <td>278263.0</td>\n",
       "      <td>151673.0</td>\n",
       "      <td>60039.0</td>\n",
       "      <td>27925.0</td>\n",
       "      <td>10035.0</td>\n",
       "      <td>17926.0</td>\n",
       "      <td>13951.0</td>\n",
       "      <td>6004.0</td>\n",
       "      <td>3991.0</td>\n",
       "      <td>6031.0</td>\n",
       "      <td>...</td>\n",
       "      <td>1994.0</td>\n",
       "      <td>NaN</td>\n",
       "      <td>NaN</td>\n",
       "      <td>2016.0</td>\n",
       "      <td>NaN</td>\n",
       "      <td>NaN</td>\n",
       "      <td>NaN</td>\n",
       "      <td>NaN</td>\n",
       "      <td>NaN</td>\n",
       "      <td>NaN</td>\n",
       "    </tr>\n",
       "    <tr>\n",
       "      <th>7</th>\n",
       "      <td>416035.0</td>\n",
       "      <td>175835.0</td>\n",
       "      <td>82042.0</td>\n",
       "      <td>53986.0</td>\n",
       "      <td>35916.0</td>\n",
       "      <td>25991.0</td>\n",
       "      <td>15987.0</td>\n",
       "      <td>9990.0</td>\n",
       "      <td>5980.0</td>\n",
       "      <td>3977.0</td>\n",
       "      <td>...</td>\n",
       "      <td>NaN</td>\n",
       "      <td>NaN</td>\n",
       "      <td>2016.0</td>\n",
       "      <td>NaN</td>\n",
       "      <td>NaN</td>\n",
       "      <td>NaN</td>\n",
       "      <td>NaN</td>\n",
       "      <td>NaN</td>\n",
       "      <td>NaN</td>\n",
       "      <td>NaN</td>\n",
       "    </tr>\n",
       "    <tr>\n",
       "      <th>8</th>\n",
       "      <td>594419.0</td>\n",
       "      <td>192244.0</td>\n",
       "      <td>60193.0</td>\n",
       "      <td>60053.0</td>\n",
       "      <td>35963.0</td>\n",
       "      <td>24043.0</td>\n",
       "      <td>15982.0</td>\n",
       "      <td>9982.0</td>\n",
       "      <td>8009.0</td>\n",
       "      <td>7960.0</td>\n",
       "      <td>...</td>\n",
       "      <td>NaN</td>\n",
       "      <td>NaN</td>\n",
       "      <td>NaN</td>\n",
       "      <td>NaN</td>\n",
       "      <td>NaN</td>\n",
       "      <td>NaN</td>\n",
       "      <td>2016.0</td>\n",
       "      <td>NaN</td>\n",
       "      <td>NaN</td>\n",
       "      <td>NaN</td>\n",
       "    </tr>\n",
       "    <tr>\n",
       "      <th>9</th>\n",
       "      <td>388548.0</td>\n",
       "      <td>181959.0</td>\n",
       "      <td>77907.0</td>\n",
       "      <td>50026.0</td>\n",
       "      <td>31897.0</td>\n",
       "      <td>16006.0</td>\n",
       "      <td>11987.0</td>\n",
       "      <td>9994.0</td>\n",
       "      <td>9997.0</td>\n",
       "      <td>11971.0</td>\n",
       "      <td>...</td>\n",
       "      <td>NaN</td>\n",
       "      <td>NaN</td>\n",
       "      <td>NaN</td>\n",
       "      <td>NaN</td>\n",
       "      <td>1992.0</td>\n",
       "      <td>NaN</td>\n",
       "      <td>NaN</td>\n",
       "      <td>NaN</td>\n",
       "      <td>NaN</td>\n",
       "      <td>NaN</td>\n",
       "    </tr>\n",
       "    <tr>\n",
       "      <th>10</th>\n",
       "      <td>378073.0</td>\n",
       "      <td>162124.0</td>\n",
       "      <td>88045.0</td>\n",
       "      <td>51969.0</td>\n",
       "      <td>15962.0</td>\n",
       "      <td>15952.0</td>\n",
       "      <td>11908.0</td>\n",
       "      <td>7962.0</td>\n",
       "      <td>1984.0</td>\n",
       "      <td>NaN</td>\n",
       "      <td>...</td>\n",
       "      <td>NaN</td>\n",
       "      <td>NaN</td>\n",
       "      <td>NaN</td>\n",
       "      <td>NaN</td>\n",
       "      <td>NaN</td>\n",
       "      <td>1992.0</td>\n",
       "      <td>NaN</td>\n",
       "      <td>NaN</td>\n",
       "      <td>NaN</td>\n",
       "      <td>2015.0</td>\n",
       "    </tr>\n",
       "    <tr>\n",
       "      <th>11</th>\n",
       "      <td>223855.0</td>\n",
       "      <td>133815.0</td>\n",
       "      <td>37982.0</td>\n",
       "      <td>20004.0</td>\n",
       "      <td>23978.0</td>\n",
       "      <td>1989.0</td>\n",
       "      <td>7996.0</td>\n",
       "      <td>3971.0</td>\n",
       "      <td>3983.0</td>\n",
       "      <td>3976.0</td>\n",
       "      <td>...</td>\n",
       "      <td>NaN</td>\n",
       "      <td>NaN</td>\n",
       "      <td>NaN</td>\n",
       "      <td>NaN</td>\n",
       "      <td>NaN</td>\n",
       "      <td>NaN</td>\n",
       "      <td>NaN</td>\n",
       "      <td>NaN</td>\n",
       "      <td>NaN</td>\n",
       "      <td>NaN</td>\n",
       "    </tr>\n",
       "    <tr>\n",
       "      <th>12</th>\n",
       "      <td>181987.0</td>\n",
       "      <td>91971.0</td>\n",
       "      <td>27985.0</td>\n",
       "      <td>14015.0</td>\n",
       "      <td>5960.0</td>\n",
       "      <td>5982.0</td>\n",
       "      <td>1997.0</td>\n",
       "      <td>NaN</td>\n",
       "      <td>3980.0</td>\n",
       "      <td>NaN</td>\n",
       "      <td>...</td>\n",
       "      <td>NaN</td>\n",
       "      <td>NaN</td>\n",
       "      <td>NaN</td>\n",
       "      <td>NaN</td>\n",
       "      <td>NaN</td>\n",
       "      <td>NaN</td>\n",
       "      <td>NaN</td>\n",
       "      <td>NaN</td>\n",
       "      <td>NaN</td>\n",
       "      <td>NaN</td>\n",
       "    </tr>\n",
       "  </tbody>\n",
       "</table>\n",
       "<p>12 rows × 42 columns</p>\n",
       "</div>"
      ],
      "text/plain": [
       "nkill      0.0       1.0      2.0      3.0      4.0      5.0      6.0    \\\n",
       "imonth                                                                    \n",
       "1       295610.0  105937.0  25975.0  20023.0   4002.0   5982.0   8005.0   \n",
       "2       298896.0   89705.0  21969.0   9996.0  11952.0   7990.0   4010.0   \n",
       "3       500508.0  139612.0  55930.0  31963.0  15942.0   2016.0   7965.0   \n",
       "4       363659.0  118046.0  51960.0  29968.0  27933.0  13969.0  13974.0   \n",
       "5       321995.0  113998.0  67806.0  35976.0  15988.0  25994.0  12014.0   \n",
       "6       278263.0  151673.0  60039.0  27925.0  10035.0  17926.0  13951.0   \n",
       "7       416035.0  175835.0  82042.0  53986.0  35916.0  25991.0  15987.0   \n",
       "8       594419.0  192244.0  60193.0  60053.0  35963.0  24043.0  15982.0   \n",
       "9       388548.0  181959.0  77907.0  50026.0  31897.0  16006.0  11987.0   \n",
       "10      378073.0  162124.0  88045.0  51969.0  15962.0  15952.0  11908.0   \n",
       "11      223855.0  133815.0  37982.0  20004.0  23978.0   1989.0   7996.0   \n",
       "12      181987.0   91971.0  27985.0  14015.0   5960.0   5982.0   1997.0   \n",
       "\n",
       "nkill     7.0      8.0      9.0    ...   37.0    39.0    43.0    48.0   \\\n",
       "imonth                             ...                                   \n",
       "1           NaN   5976.0      NaN  ...     NaN     NaN     NaN     NaN   \n",
       "2        1992.0      NaN      NaN  ...     NaN     NaN     NaN     NaN   \n",
       "3        2016.0   4003.0   5972.0  ...     NaN  2016.0     NaN     NaN   \n",
       "4       11951.0   1994.0   2009.0  ...     NaN     NaN  1994.0     NaN   \n",
       "5       11983.0  11968.0   1994.0  ...     NaN     NaN     NaN     NaN   \n",
       "6        6004.0   3991.0   6031.0  ...  1994.0     NaN     NaN  2016.0   \n",
       "7        9990.0   5980.0   3977.0  ...     NaN     NaN  2016.0     NaN   \n",
       "8        9982.0   8009.0   7960.0  ...     NaN     NaN     NaN     NaN   \n",
       "9        9994.0   9997.0  11971.0  ...     NaN     NaN     NaN     NaN   \n",
       "10       7962.0   1984.0      NaN  ...     NaN     NaN     NaN     NaN   \n",
       "11       3971.0   3983.0   3976.0  ...     NaN     NaN     NaN     NaN   \n",
       "12          NaN   3980.0      NaN  ...     NaN     NaN     NaN     NaN   \n",
       "\n",
       "nkill    52.0    55.0    58.0    59.0    77.0    105.0  \n",
       "imonth                                                  \n",
       "1          NaN     NaN     NaN     NaN     NaN     NaN  \n",
       "2          NaN     NaN     NaN     NaN     NaN     NaN  \n",
       "3          NaN     NaN     NaN     NaN  1994.0     NaN  \n",
       "4          NaN     NaN     NaN  1994.0     NaN     NaN  \n",
       "5          NaN     NaN     NaN     NaN     NaN     NaN  \n",
       "6          NaN     NaN     NaN     NaN     NaN     NaN  \n",
       "7          NaN     NaN     NaN     NaN     NaN     NaN  \n",
       "8          NaN     NaN  2016.0     NaN     NaN     NaN  \n",
       "9       1992.0     NaN     NaN     NaN     NaN     NaN  \n",
       "10         NaN  1992.0     NaN     NaN     NaN  2015.0  \n",
       "11         NaN     NaN     NaN     NaN     NaN     NaN  \n",
       "12         NaN     NaN     NaN     NaN     NaN     NaN  \n",
       "\n",
       "[12 rows x 42 columns]"
      ]
     },
     "execution_count": 28,
     "metadata": {},
     "output_type": "execute_result"
    }
   ],
   "source": [
    "df_turkey.pivot_table('iyear',index = 'imonth',columns='nkill',aggfunc='sum')"
   ]
  },
  {
   "cell_type": "code",
   "execution_count": 34,
   "id": "b4ca4709",
   "metadata": {
    "slideshow": {
     "slide_type": "notes"
    }
   },
   "outputs": [
    {
     "data": {
      "text/plain": [
       "iyear              0\n",
       "imonth             0\n",
       "iday               0\n",
       "extended           0\n",
       "latitude           0\n",
       "longitude          0\n",
       "multiple           0\n",
       "success            0\n",
       "suicide            0\n",
       "attacktype1        0\n",
       "attacktype1_txt    0\n",
       "targtype1          0\n",
       "targtype1_txt      0\n",
       "natlty1            0\n",
       "natlty1_txt        0\n",
       "individual         0\n",
       "weaptype1          0\n",
       "weaptype1_txt      0\n",
       "nkill              0\n",
       "nwound             0\n",
       "dtype: int64"
      ]
     },
     "execution_count": 34,
     "metadata": {},
     "output_type": "execute_result"
    }
   ],
   "source": [
    "df_turkey.isnull().sum()"
   ]
  },
  {
   "cell_type": "code",
   "execution_count": null,
   "id": "dfcf30b2",
   "metadata": {},
   "outputs": [],
   "source": []
  },
  {
   "cell_type": "code",
   "execution_count": null,
   "id": "7dae51f9",
   "metadata": {},
   "outputs": [],
   "source": []
  },
  {
   "cell_type": "markdown",
   "id": "87f0dde9",
   "metadata": {},
   "source": [
    "# k-means kümeleme "
   ]
  },
  {
   "cell_type": "markdown",
   "id": "85d99c48",
   "metadata": {},
   "source": [
    "#1-küme sayısı (k) değerini belirle \n",
    "#2-başlangıç orta noktaları belirle\n",
    "#3-ilk kümeleri oluştur verileri en yakın merkeze ata\n",
    "#4-iterasyonlar ile kümeleri en iyi hale getir.\n"
   ]
  },
  {
   "cell_type": "markdown",
   "id": "63c96e83",
   "metadata": {},
   "source": [
    "kullancağımız veri seti türüne göre ilgili diğer kütüphaneler çağrılır.\n"
   ]
  },
  {
   "cell_type": "code",
   "execution_count": 150,
   "id": "fc084653",
   "metadata": {},
   "outputs": [
    {
     "name": "stderr",
     "output_type": "stream",
     "text": [
      "/Users/omerfaruksezer/anaconda3/lib/python3.11/site-packages/sklearn/cluster/_kmeans.py:1412: FutureWarning:\n",
      "\n",
      "The default value of `n_init` will change from 10 to 'auto' in 1.4. Set the value of `n_init` explicitly to suppress the warning\n",
      "\n"
     ]
    },
    {
     "data": {
      "image/png": "[encoded data removed]",
      "text/plain": [
       "<Figure size 400x200 with 1 Axes>"
      ]
     },
     "metadata": {},
     "output_type": "display_data"
    },
    {
     "data": {
      "image/png": "[encoded data removed]",
      "text/plain": [
       "<Figure size 400x200 with 1 Axes>"
      ]
     },
     "metadata": {},
     "output_type": "display_data"
    },
    {
     "data": {
      "image/png": "[encoded data removed]",
      "text/plain": [
       "<Figure size 400x200 with 1 Axes>"
      ]
     },
     "metadata": {},
     "output_type": "display_data"
    },
    {
     "data": {
      "image/png": "[encoded data removed]",
      "text/plain": [
       "<Figure size 400x200 with 1 Axes>"
      ]
     },
     "metadata": {},
     "output_type": "display_data"
    },
    {
     "data": {
      "image/png": "[encoded data removed]",
      "text/plain": [
       "<Figure size 400x200 with 1 Axes>"
      ]
     },
     "metadata": {},
     "output_type": "display_data"
    },
    {
     "data": {
      "image/png": "[encoded data removed]",
      "text/plain": [
       "<Figure size 400x200 with 1 Axes>"
      ]
     },
     "metadata": {},
     "output_type": "display_data"
    },
    {
     "data": {
      "image/png": "[encoded data removed]",
      "text/plain": [
       "<Figure size 400x200 with 1 Axes>"
      ]
     },
     "metadata": {},
     "output_type": "display_data"
    },
    {
     "data": {
      "image/png": "[encoded data removed]",
      "text/plain": [
       "<Figure size 400x200 with 1 Axes>"
      ]
     },
     "metadata": {},
     "output_type": "display_data"
    },
    {
     "data": {
      "image/png": "[encoded data removed]",
      "text/plain": [
       "<Figure size 400x200 with 1 Axes>"
      ]
     },
     "metadata": {},
     "output_type": "display_data"
    },
    {
     "data": {
      "image/png": "[encoded data removed]",
      "text/plain": [
       "<Figure size 400x200 with 1 Axes>"
      ]
     },
     "metadata": {},
     "output_type": "display_data"
    },
    {
     "data": {
      "image/png": "[encoded data removed]",
      "text/plain": [
       "<Figure size 400x200 with 1 Axes>"
      ]
     },
     "metadata": {},
     "output_type": "display_data"
    },
    {
     "data": {
      "image/png": "[encoded data removed]",
      "text/plain": [
       "<Figure size 400x200 with 1 Axes>"
      ]
     },
     "metadata": {},
     "output_type": "display_data"
    },
    {
     "data": {
      "image/png": "[encoded data removed]",
      "text/plain": [
       "<Figure size 400x200 with 1 Axes>"
      ]
     },
     "metadata": {},
     "output_type": "display_data"
    },
    {
     "data": {
      "image/png": "[encoded data removed]",
      "text/plain": [
       "<Figure size 400x200 with 1 Axes>"
      ]
     },
     "metadata": {},
     "output_type": "display_data"
    },
    {
     "data": {
      "image/png": "[encoded data removed]",
      "text/plain": [
       "<Figure size 400x200 with 1 Axes>"
      ]
     },
     "metadata": {},
     "output_type": "display_data"
    }
   ],
   "source": [
    "import pandas as pd\n",
    "from sklearn.cluster import KMeans\n",
    "import matplotlib.pyplot as plt\n",
    "X = df_turkey[['imonth', 'iday', 'extended', 'latitude', 'longitude', 'multiple', 'success', 'suicide', 'attacktype1', 'targtype1', 'natlty1', 'individual', 'weaptype1', 'nkill', 'nwound']]\n",
    "kmeans = KMeans(n_clusters=2, random_state=42)\n",
    "kmeans.fit(X)\n",
    "cluster_labels = kmeans.labels_\n",
    "df_turkey['cluster'] = cluster_labels\n",
    "cluster_centers = kmeans.cluster_centers_\n",
    "\n",
    "for feature in X.columns:\n",
    "    plt.figure(figsize=(4, 2))\n",
    "    plt.style.use('ggplot')\n",
    "    \n",
    "    plt.scatter(X[feature], df_turkey['nkill'], c=y, cmap='viridis', alpha=0.5 ,)\n",
    "    plt.scatter(cluster_centers[:, X.columns.get_loc(feature)], [0, 0], marker='x', color='red', s=100)\n",
    "    plt.title(f'{feature} vs nkill with Clusters')\n",
    "    plt.xlabel(feature)\n",
    "    plt.ylabel('nkill')\n",
    "    plt.show()\n"
   ]
  },
  {
   "cell_type": "code",
   "execution_count": null,
   "id": "04a0336e",
   "metadata": {},
   "outputs": [],
   "source": [
    "from sklearn.metrics import accuracy_score\n",
    "accuracy_score =(X_nkill,y_nkill)"
   ]
  },
  {
   "cell_type": "code",
   "execution_count": 110,
   "id": "f8f7730a",
   "metadata": {},
   "outputs": [],
   "source": [
    "plt.style.use('ggplot')"
   ]
  },
  {
   "cell_type": "code",
   "execution_count": null,
   "id": "58ae50d9",
   "metadata": {},
   "outputs": [],
   "source": [
    "plt.scatter()"
   ]
  },
  {
   "cell_type": "code",
   "execution_count": 17,
   "id": "bdf59b74",
   "metadata": {},
   "outputs": [
    {
     "data": {
      "text/plain": [
       "<Axes: ylabel='Frequency'>"
      ]
     },
     "execution_count": 17,
     "metadata": {},
     "output_type": "execute_result"
    },
    {
     "data": {
      "image/png": "[encoded data removed]",
      "text/plain": [
       "<Figure size 640x480 with 1 Axes>"
      ]
     },
     "metadata": {},
     "output_type": "display_data"
    }
   ],
   "source": [
    "df_turkey['iyear'].plot(kind = 'hist')"
   ]
  }
 ],
 "metadata": {
  "kernelspec": {
   "display_name": "Python 3 (ipykernel)",
   "language": "python",
   "name": "python3"
  },
  "language_info": {
   "codemirror_mode": {
    "name": "ipython",
    "version": 3
   },
   "file_extension": ".py",
   "mimetype": "text/x-python",
   "name": "python",
   "nbconvert_exporter": "python",
   "pygments_lexer": "ipython3",
   "version": "3.11.7"
  }
 },
 "nbformat": 4,
 "nbformat_minor": 5
}
